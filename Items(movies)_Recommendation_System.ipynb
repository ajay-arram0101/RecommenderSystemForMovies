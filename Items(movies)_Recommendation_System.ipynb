{
 "cells": [
  {
   "cell_type": "markdown",
   "id": "1dbaf127-65cf-46e4-b0c1-72e623bd2af3",
   "metadata": {},
   "source": [
    "# Deep Learning for Movies Recommendation System(content_based filtering)"
   ]
  },
  {
   "cell_type": "code",
   "execution_count": 1,
   "id": "61bdbc8b-c068-4fbb-80ec-0b44a9f1f3b4",
   "metadata": {},
   "outputs": [],
   "source": [
    "import numpy as np\n",
    "import pandas as pd\n",
    "import numpy.ma as ma\n",
    "import tensorflow as tf\n",
    "from tensorflow import keras\n",
    "from tensorflow.keras.layers import Layer\n",
    "from sklearn.preprocessing import StandardScaler, MinMaxScaler\n",
    "from sklearn.model_selection import train_test_split\n",
    "import tabulate\n",
    "import pickle as pickle\n",
    "from recsysNN_util import *\n",
    "\n",
    "pd.set_option(\"display.precision\", 1)"
   ]
  },
  {
   "cell_type": "markdown",
   "id": "0542d034-8fac-47c4-9a99-dec7052d82fb",
   "metadata": {},
   "source": [
    "\n",
    "## Movie ratings dataset \n",
    "The data set is from the [MovieLens ml-latest-small](https://grouplens.org/datasets/movielens/latest/) dataset. \n",
    "\n",
    "[F. Maxwell Harper and Joseph A. Konstan. 2015. The MovieLens Datasets: History and Context. ACM Transactions on Interactive Intelligent Systems (TiiS) 5, 4: 19:1–19:19. <https://doi.org/10.1145/2827872>]\n",
    "\n",
    "Thes dataset has around 9000 movies rated by 600 users with ratings on a scale of 0.5 to 5 in 0.5 step increments. For each movie, the dataset provides a movie title, release date, and one or more genres. For example \"Toy Story 3\" was released in 2010 and has several genres: \"Adventure|Animation|Children|Comedy|Fantasy\". This dataset contains little information about users other than their ratings. This dataset is used to create training vectors for the neural networks. All the necessary cleaning and transforming the data is done in \"guide to data prepation for user networn and item network.ipynb\". You can find that in the same folder as this one.\n"
   ]
  },
  {
   "cell_type": "raw",
   "id": "aa9bf648-c4e5-489e-b479-6e9c88205a52",
   "metadata": {},
   "source": [
    "print( \" ************Links*************************************************************\")\n",
    "top_10_links = pd.read_csv(\"data/links.csv\") # from ratings.csv\n",
    "print(top_10_links.head(10))\n",
    "\n",
    "print( \" ************Movies**************************************************************\")\n",
    "top_10_movies = pd.read_csv(\"data/movies.csv\") # from movies.csv\n",
    "print(top_10_movies.head(10))\n",
    "\n",
    "print( \" ************ratings************************************************************\")\n",
    "top_10_ratings = pd.read_csv(\"data/ratings.csv\") # from ratings.csv\n",
    "print(top_10_ratings.head(10))\n",
    "\n",
    "print( \" ************tags****************************************************************\")\n",
    "top_10_tags = pd.read_csv(\"data/tags.csv\") # from ratings.csv\n",
    "print(top_10_tags.head(10))\n",
    "\n",
    "\n"
   ]
  },
  {
   "cell_type": "markdown",
   "id": "ed6cf3fc-dccc-407d-bb4c-27cf8fffd314",
   "metadata": {},
   "source": [
    "\n",
    "##  Content-based filtering with a neural network\n",
    "\n",
    "In the collaborative filtering lab, you generated two vectors, a user vector and an item/movie vector whose dot product would predict a rating. The vectors were derived solely from the ratings.   \n",
    "\n",
    "Content-based filtering also generates a user and movie feature vector but recognizes there may be other information available about the user and/or movie that may improve the prediction. The additional information is provided to a neural network which then generates the user and movie vector as shown below.\n",
    "<figure>\n",
    "    <center> <img src=\"images/NN_architecture.png\"   style=\"width:500px;height:280px;\" ></center>\n",
    "</figure>\n",
    "\n",
    "\n",
    "### Training Data\n",
    "The movie content provided to the network is a combination of the original data and some 'engineered features'. The original features are the year the movie was released and the movie's genre's presented as a one-hot vector. There are 14 genres. The engineered feature is an average rating derived from the user ratings. \n",
    "\n",
    "The user content is composed of engineered features. A per genre average rating is computed per user. Additionally, a user id, rating count and rating average are available but not included in the training or prediction content. They are carried with the data set because they are useful in interpreting data.\n",
    "\n",
    "The training set consists of all the ratings made by the users in the data set.The training set is split into two arrays with the same number of entries, a user array and a movie/item array.  \n",
    "\n",
    "Below, let's load and display some of the data."
   ]
  },
  {
   "cell_type": "code",
   "execution_count": 2,
   "id": "4e164fce-70e2-4771-9687-46907e879292",
   "metadata": {},
   "outputs": [
    {
     "name": "stdout",
     "output_type": "stream",
     "text": [
      "Number of training vectors: 100631\n"
     ]
    }
   ],
   "source": [
    "item_train, user_train, y_train, item_features, user_features, item_vecs, movie_dict, user_to_genre = load_data()\n",
    "num_user_features = user_train.shape[1] - 3  # remove userid, rating count and ave rating during training\n",
    "num_item_features = item_train.shape[1] - 1  # remove movie id at train time\n",
    "uvs = 3  # user genre vector start\n",
    "ivs = 3  # item genre vector start\n",
    "u_s = 3  # start of columns to use in training, user\n",
    "i_s = 1  # start of columns to use in training, items\n",
    "print(f\"Number of training vectors: {len(item_train)}\")"
   ]
  },
  {
   "cell_type": "code",
   "execution_count": 4,
   "id": "01aee9c3-282b-4bee-84b7-bfd922933d24",
   "metadata": {},
   "outputs": [
    {
     "data": {
      "text/html": [
       "<table>\n",
       "<thead>\n",
       "<tr><th style=\"text-align: center;\"> [user id] </th><th style=\"text-align: center;\"> [rating count] </th><th style=\"text-align: center;\"> [rating ave] </th><th style=\"text-align: center;\"> Adve nture </th><th style=\"text-align: center;\"> Anim ation </th><th style=\"text-align: center;\"> Chil dren </th><th style=\"text-align: center;\"> Com edy </th><th style=\"text-align: center;\"> Fan tasy </th><th style=\"text-align: center;\"> Rom ance </th><th style=\"text-align: center;\"> Act ion </th><th style=\"text-align: center;\"> Crime </th><th style=\"text-align: center;\"> Thri ller </th><th style=\"text-align: center;\"> Mys tery </th><th style=\"text-align: center;\"> Hor ror </th><th style=\"text-align: center;\"> Drama </th><th style=\"text-align: center;\"> War </th><th style=\"text-align: center;\"> Sci -Fi </th><th style=\"text-align: center;\"> Mus ical </th><th style=\"text-align: center;\"> Docum entary </th></tr>\n",
       "</thead>\n",
       "<tbody>\n",
       "<tr><td style=\"text-align: center;\">     1     </td><td style=\"text-align: center;\">      689       </td><td style=\"text-align: center;\">     4.3      </td><td style=\"text-align: center;\">    4.4     </td><td style=\"text-align: center;\">    4.7     </td><td style=\"text-align: center;\">    4.5    </td><td style=\"text-align: center;\">   4.3   </td><td style=\"text-align: center;\">   4.3    </td><td style=\"text-align: center;\">   4.3    </td><td style=\"text-align: center;\">   4.3   </td><td style=\"text-align: center;\">  4.4  </td><td style=\"text-align: center;\">    4.2    </td><td style=\"text-align: center;\">   4.2    </td><td style=\"text-align: center;\">   3.5   </td><td style=\"text-align: center;\">  4.5  </td><td style=\"text-align: center;\"> 4.5 </td><td style=\"text-align: center;\">   4.2   </td><td style=\"text-align: center;\">   4.7    </td><td style=\"text-align: center;\">     0.0      </td></tr>\n",
       "<tr><td style=\"text-align: center;\">     5     </td><td style=\"text-align: center;\">      123       </td><td style=\"text-align: center;\">     3.6      </td><td style=\"text-align: center;\">    3.2     </td><td style=\"text-align: center;\">    4.3     </td><td style=\"text-align: center;\">    4.1    </td><td style=\"text-align: center;\">   3.5   </td><td style=\"text-align: center;\">   4.1    </td><td style=\"text-align: center;\">   3.1    </td><td style=\"text-align: center;\">   3.1   </td><td style=\"text-align: center;\">  3.8  </td><td style=\"text-align: center;\">    3.6    </td><td style=\"text-align: center;\">   4.0    </td><td style=\"text-align: center;\">   3.0   </td><td style=\"text-align: center;\">  3.8  </td><td style=\"text-align: center;\"> 3.3 </td><td style=\"text-align: center;\">   2.5   </td><td style=\"text-align: center;\">   4.4    </td><td style=\"text-align: center;\">     0.0      </td></tr>\n",
       "<tr><td style=\"text-align: center;\">     7     </td><td style=\"text-align: center;\">      457       </td><td style=\"text-align: center;\">     3.2      </td><td style=\"text-align: center;\">    3.3     </td><td style=\"text-align: center;\">    3.4     </td><td style=\"text-align: center;\">    3.2    </td><td style=\"text-align: center;\">   3.2   </td><td style=\"text-align: center;\">   3.1    </td><td style=\"text-align: center;\">   2.6    </td><td style=\"text-align: center;\">   3.3   </td><td style=\"text-align: center;\">  3.3  </td><td style=\"text-align: center;\">    3.4    </td><td style=\"text-align: center;\">   3.2    </td><td style=\"text-align: center;\">   4.0   </td><td style=\"text-align: center;\">  3.1  </td><td style=\"text-align: center;\"> 3.3 </td><td style=\"text-align: center;\">   3.1   </td><td style=\"text-align: center;\">   3.7    </td><td style=\"text-align: center;\">     0.0      </td></tr>\n",
       "<tr><td style=\"text-align: center;\">    15     </td><td style=\"text-align: center;\">      425       </td><td style=\"text-align: center;\">     3.4      </td><td style=\"text-align: center;\">    3.3     </td><td style=\"text-align: center;\">    3.0     </td><td style=\"text-align: center;\">    2.7    </td><td style=\"text-align: center;\">   3.4   </td><td style=\"text-align: center;\">   2.9    </td><td style=\"text-align: center;\">   3.9    </td><td style=\"text-align: center;\">   3.2   </td><td style=\"text-align: center;\">  3.6  </td><td style=\"text-align: center;\">    3.4    </td><td style=\"text-align: center;\">   3.4    </td><td style=\"text-align: center;\">   3.8   </td><td style=\"text-align: center;\">  3.7  </td><td style=\"text-align: center;\"> 4.1 </td><td style=\"text-align: center;\">   3.6   </td><td style=\"text-align: center;\">   2.7    </td><td style=\"text-align: center;\">     0.0      </td></tr>\n",
       "<tr><td style=\"text-align: center;\">    17     </td><td style=\"text-align: center;\">      290       </td><td style=\"text-align: center;\">     4.2      </td><td style=\"text-align: center;\">    4.3     </td><td style=\"text-align: center;\">    4.4     </td><td style=\"text-align: center;\">    4.2    </td><td style=\"text-align: center;\">   4.2   </td><td style=\"text-align: center;\">   4.3    </td><td style=\"text-align: center;\">   3.9    </td><td style=\"text-align: center;\">   4.2   </td><td style=\"text-align: center;\">  4.2  </td><td style=\"text-align: center;\">    4.3    </td><td style=\"text-align: center;\">   4.0    </td><td style=\"text-align: center;\">   4.2   </td><td style=\"text-align: center;\">  4.2  </td><td style=\"text-align: center;\"> 4.4 </td><td style=\"text-align: center;\">   4.4   </td><td style=\"text-align: center;\">   4.0    </td><td style=\"text-align: center;\">     3.5      </td></tr>\n",
       "</tbody>\n",
       "</table>"
      ],
      "text/plain": [
       "'<table>\\n<thead>\\n<tr><th style=\"text-align: center;\"> [user id] </th><th style=\"text-align: center;\"> [rating count] </th><th style=\"text-align: center;\"> [rating ave] </th><th style=\"text-align: center;\"> Adve nture </th><th style=\"text-align: center;\"> Anim ation </th><th style=\"text-align: center;\"> Chil dren </th><th style=\"text-align: center;\"> Com edy </th><th style=\"text-align: center;\"> Fan tasy </th><th style=\"text-align: center;\"> Rom ance </th><th style=\"text-align: center;\"> Act ion </th><th style=\"text-align: center;\"> Crime </th><th style=\"text-align: center;\"> Thri ller </th><th style=\"text-align: center;\"> Mys tery </th><th style=\"text-align: center;\"> Hor ror </th><th style=\"text-align: center;\"> Drama </th><th style=\"text-align: center;\"> War </th><th style=\"text-align: center;\"> Sci -Fi </th><th style=\"text-align: center;\"> Mus ical </th><th style=\"text-align: center;\"> Docum entary </th></tr>\\n</thead>\\n<tbody>\\n<tr><td style=\"text-align: center;\">     1     </td><td style=\"text-align: center;\">      689       </td><td style=\"text-align: center;\">     4.3      </td><td style=\"text-align: center;\">    4.4     </td><td style=\"text-align: center;\">    4.7     </td><td style=\"text-align: center;\">    4.5    </td><td style=\"text-align: center;\">   4.3   </td><td style=\"text-align: center;\">   4.3    </td><td style=\"text-align: center;\">   4.3    </td><td style=\"text-align: center;\">   4.3   </td><td style=\"text-align: center;\">  4.4  </td><td style=\"text-align: center;\">    4.2    </td><td style=\"text-align: center;\">   4.2    </td><td style=\"text-align: center;\">   3.5   </td><td style=\"text-align: center;\">  4.5  </td><td style=\"text-align: center;\"> 4.5 </td><td style=\"text-align: center;\">   4.2   </td><td style=\"text-align: center;\">   4.7    </td><td style=\"text-align: center;\">     0.0      </td></tr>\\n<tr><td style=\"text-align: center;\">     5     </td><td style=\"text-align: center;\">      123       </td><td style=\"text-align: center;\">     3.6      </td><td style=\"text-align: center;\">    3.2     </td><td style=\"text-align: center;\">    4.3     </td><td style=\"text-align: center;\">    4.1    </td><td style=\"text-align: center;\">   3.5   </td><td style=\"text-align: center;\">   4.1    </td><td style=\"text-align: center;\">   3.1    </td><td style=\"text-align: center;\">   3.1   </td><td style=\"text-align: center;\">  3.8  </td><td style=\"text-align: center;\">    3.6    </td><td style=\"text-align: center;\">   4.0    </td><td style=\"text-align: center;\">   3.0   </td><td style=\"text-align: center;\">  3.8  </td><td style=\"text-align: center;\"> 3.3 </td><td style=\"text-align: center;\">   2.5   </td><td style=\"text-align: center;\">   4.4    </td><td style=\"text-align: center;\">     0.0      </td></tr>\\n<tr><td style=\"text-align: center;\">     7     </td><td style=\"text-align: center;\">      457       </td><td style=\"text-align: center;\">     3.2      </td><td style=\"text-align: center;\">    3.3     </td><td style=\"text-align: center;\">    3.4     </td><td style=\"text-align: center;\">    3.2    </td><td style=\"text-align: center;\">   3.2   </td><td style=\"text-align: center;\">   3.1    </td><td style=\"text-align: center;\">   2.6    </td><td style=\"text-align: center;\">   3.3   </td><td style=\"text-align: center;\">  3.3  </td><td style=\"text-align: center;\">    3.4    </td><td style=\"text-align: center;\">   3.2    </td><td style=\"text-align: center;\">   4.0   </td><td style=\"text-align: center;\">  3.1  </td><td style=\"text-align: center;\"> 3.3 </td><td style=\"text-align: center;\">   3.1   </td><td style=\"text-align: center;\">   3.7    </td><td style=\"text-align: center;\">     0.0      </td></tr>\\n<tr><td style=\"text-align: center;\">    15     </td><td style=\"text-align: center;\">      425       </td><td style=\"text-align: center;\">     3.4      </td><td style=\"text-align: center;\">    3.3     </td><td style=\"text-align: center;\">    3.0     </td><td style=\"text-align: center;\">    2.7    </td><td style=\"text-align: center;\">   3.4   </td><td style=\"text-align: center;\">   2.9    </td><td style=\"text-align: center;\">   3.9    </td><td style=\"text-align: center;\">   3.2   </td><td style=\"text-align: center;\">  3.6  </td><td style=\"text-align: center;\">    3.4    </td><td style=\"text-align: center;\">   3.4    </td><td style=\"text-align: center;\">   3.8   </td><td style=\"text-align: center;\">  3.7  </td><td style=\"text-align: center;\"> 4.1 </td><td style=\"text-align: center;\">   3.6   </td><td style=\"text-align: center;\">   2.7    </td><td style=\"text-align: center;\">     0.0      </td></tr>\\n<tr><td style=\"text-align: center;\">    17     </td><td style=\"text-align: center;\">      290       </td><td style=\"text-align: center;\">     4.2      </td><td style=\"text-align: center;\">    4.3     </td><td style=\"text-align: center;\">    4.4     </td><td style=\"text-align: center;\">    4.2    </td><td style=\"text-align: center;\">   4.2   </td><td style=\"text-align: center;\">   4.3    </td><td style=\"text-align: center;\">   3.9    </td><td style=\"text-align: center;\">   4.2   </td><td style=\"text-align: center;\">  4.2  </td><td style=\"text-align: center;\">    4.3    </td><td style=\"text-align: center;\">   4.0    </td><td style=\"text-align: center;\">   4.2   </td><td style=\"text-align: center;\">  4.2  </td><td style=\"text-align: center;\"> 4.4 </td><td style=\"text-align: center;\">   4.4   </td><td style=\"text-align: center;\">   4.0    </td><td style=\"text-align: center;\">     3.5      </td></tr>\\n</tbody>\\n</table>'"
      ]
     },
     "execution_count": 4,
     "metadata": {},
     "output_type": "execute_result"
    }
   ],
   "source": [
    "pprint_train(user_train, user_features, uvs,  u_s, maxcount=5)"
   ]
  },
  {
   "cell_type": "code",
   "execution_count": 5,
   "id": "f2d5cf86-6f7c-4b42-99aa-969fa60b9d0d",
   "metadata": {},
   "outputs": [
    {
     "data": {
      "text/html": [
       "<table>\n",
       "<thead>\n",
       "<tr><th style=\"text-align: center;\"> [mov ieId] </th><th style=\"text-align: center;\"> Year </th><th style=\"text-align: center;\"> Avg_r ating </th><th style=\"text-align: center;\"> Adve nture </th><th style=\"text-align: center;\"> Anim ation </th><th style=\"text-align: center;\"> Chil dren </th><th style=\"text-align: center;\"> Com edy </th><th style=\"text-align: center;\"> Fan tasy </th><th style=\"text-align: center;\"> Rom ance </th><th style=\"text-align: center;\"> Act ion </th><th style=\"text-align: center;\"> Crime </th><th style=\"text-align: center;\"> Thri ller </th><th style=\"text-align: center;\"> Mys tery </th><th style=\"text-align: center;\"> Hor ror </th><th style=\"text-align: center;\"> Drama </th><th style=\"text-align: center;\"> War </th><th style=\"text-align: center;\"> Sci -Fi </th><th style=\"text-align: center;\"> Mus ical </th><th style=\"text-align: center;\"> Docum entary </th></tr>\n",
       "</thead>\n",
       "<tbody>\n",
       "<tr><td style=\"text-align: center;\">     1      </td><td style=\"text-align: center;\"> 1995 </td><td style=\"text-align: center;\">     3.9     </td><td style=\"text-align: center;\">     1      </td><td style=\"text-align: center;\">     1      </td><td style=\"text-align: center;\">     1     </td><td style=\"text-align: center;\">    1    </td><td style=\"text-align: center;\">    1     </td><td style=\"text-align: center;\">    0     </td><td style=\"text-align: center;\">    0    </td><td style=\"text-align: center;\">   0   </td><td style=\"text-align: center;\">     0     </td><td style=\"text-align: center;\">    0     </td><td style=\"text-align: center;\">    0    </td><td style=\"text-align: center;\">   0   </td><td style=\"text-align: center;\">  0  </td><td style=\"text-align: center;\">    0    </td><td style=\"text-align: center;\">    0     </td><td style=\"text-align: center;\">      0       </td></tr>\n",
       "<tr><td style=\"text-align: center;\">     1      </td><td style=\"text-align: center;\"> 1995 </td><td style=\"text-align: center;\">     3.9     </td><td style=\"text-align: center;\">     1      </td><td style=\"text-align: center;\">     1      </td><td style=\"text-align: center;\">     1     </td><td style=\"text-align: center;\">    1    </td><td style=\"text-align: center;\">    1     </td><td style=\"text-align: center;\">    0     </td><td style=\"text-align: center;\">    0    </td><td style=\"text-align: center;\">   0   </td><td style=\"text-align: center;\">     0     </td><td style=\"text-align: center;\">    0     </td><td style=\"text-align: center;\">    0    </td><td style=\"text-align: center;\">   0   </td><td style=\"text-align: center;\">  0  </td><td style=\"text-align: center;\">    0    </td><td style=\"text-align: center;\">    0     </td><td style=\"text-align: center;\">      0       </td></tr>\n",
       "<tr><td style=\"text-align: center;\">     1      </td><td style=\"text-align: center;\"> 1995 </td><td style=\"text-align: center;\">     3.9     </td><td style=\"text-align: center;\">     1      </td><td style=\"text-align: center;\">     1      </td><td style=\"text-align: center;\">     1     </td><td style=\"text-align: center;\">    1    </td><td style=\"text-align: center;\">    1     </td><td style=\"text-align: center;\">    0     </td><td style=\"text-align: center;\">    0    </td><td style=\"text-align: center;\">   0   </td><td style=\"text-align: center;\">     0     </td><td style=\"text-align: center;\">    0     </td><td style=\"text-align: center;\">    0    </td><td style=\"text-align: center;\">   0   </td><td style=\"text-align: center;\">  0  </td><td style=\"text-align: center;\">    0    </td><td style=\"text-align: center;\">    0     </td><td style=\"text-align: center;\">      0       </td></tr>\n",
       "<tr><td style=\"text-align: center;\">     1      </td><td style=\"text-align: center;\"> 1995 </td><td style=\"text-align: center;\">     3.9     </td><td style=\"text-align: center;\">     1      </td><td style=\"text-align: center;\">     1      </td><td style=\"text-align: center;\">     1     </td><td style=\"text-align: center;\">    1    </td><td style=\"text-align: center;\">    1     </td><td style=\"text-align: center;\">    0     </td><td style=\"text-align: center;\">    0    </td><td style=\"text-align: center;\">   0   </td><td style=\"text-align: center;\">     0     </td><td style=\"text-align: center;\">    0     </td><td style=\"text-align: center;\">    0    </td><td style=\"text-align: center;\">   0   </td><td style=\"text-align: center;\">  0  </td><td style=\"text-align: center;\">    0    </td><td style=\"text-align: center;\">    0     </td><td style=\"text-align: center;\">      0       </td></tr>\n",
       "<tr><td style=\"text-align: center;\">     1      </td><td style=\"text-align: center;\"> 1995 </td><td style=\"text-align: center;\">     3.9     </td><td style=\"text-align: center;\">     1      </td><td style=\"text-align: center;\">     1      </td><td style=\"text-align: center;\">     1     </td><td style=\"text-align: center;\">    1    </td><td style=\"text-align: center;\">    1     </td><td style=\"text-align: center;\">    0     </td><td style=\"text-align: center;\">    0    </td><td style=\"text-align: center;\">   0   </td><td style=\"text-align: center;\">     0     </td><td style=\"text-align: center;\">    0     </td><td style=\"text-align: center;\">    0    </td><td style=\"text-align: center;\">   0   </td><td style=\"text-align: center;\">  0  </td><td style=\"text-align: center;\">    0    </td><td style=\"text-align: center;\">    0     </td><td style=\"text-align: center;\">      0       </td></tr>\n",
       "</tbody>\n",
       "</table>"
      ],
      "text/plain": [
       "'<table>\\n<thead>\\n<tr><th style=\"text-align: center;\"> [mov ieId] </th><th style=\"text-align: center;\"> Year </th><th style=\"text-align: center;\"> Avg_r ating </th><th style=\"text-align: center;\"> Adve nture </th><th style=\"text-align: center;\"> Anim ation </th><th style=\"text-align: center;\"> Chil dren </th><th style=\"text-align: center;\"> Com edy </th><th style=\"text-align: center;\"> Fan tasy </th><th style=\"text-align: center;\"> Rom ance </th><th style=\"text-align: center;\"> Act ion </th><th style=\"text-align: center;\"> Crime </th><th style=\"text-align: center;\"> Thri ller </th><th style=\"text-align: center;\"> Mys tery </th><th style=\"text-align: center;\"> Hor ror </th><th style=\"text-align: center;\"> Drama </th><th style=\"text-align: center;\"> War </th><th style=\"text-align: center;\"> Sci -Fi </th><th style=\"text-align: center;\"> Mus ical </th><th style=\"text-align: center;\"> Docum entary </th></tr>\\n</thead>\\n<tbody>\\n<tr><td style=\"text-align: center;\">     1      </td><td style=\"text-align: center;\"> 1995 </td><td style=\"text-align: center;\">     3.9     </td><td style=\"text-align: center;\">     1      </td><td style=\"text-align: center;\">     1      </td><td style=\"text-align: center;\">     1     </td><td style=\"text-align: center;\">    1    </td><td style=\"text-align: center;\">    1     </td><td style=\"text-align: center;\">    0     </td><td style=\"text-align: center;\">    0    </td><td style=\"text-align: center;\">   0   </td><td style=\"text-align: center;\">     0     </td><td style=\"text-align: center;\">    0     </td><td style=\"text-align: center;\">    0    </td><td style=\"text-align: center;\">   0   </td><td style=\"text-align: center;\">  0  </td><td style=\"text-align: center;\">    0    </td><td style=\"text-align: center;\">    0     </td><td style=\"text-align: center;\">      0       </td></tr>\\n<tr><td style=\"text-align: center;\">     1      </td><td style=\"text-align: center;\"> 1995 </td><td style=\"text-align: center;\">     3.9     </td><td style=\"text-align: center;\">     1      </td><td style=\"text-align: center;\">     1      </td><td style=\"text-align: center;\">     1     </td><td style=\"text-align: center;\">    1    </td><td style=\"text-align: center;\">    1     </td><td style=\"text-align: center;\">    0     </td><td style=\"text-align: center;\">    0    </td><td style=\"text-align: center;\">   0   </td><td style=\"text-align: center;\">     0     </td><td style=\"text-align: center;\">    0     </td><td style=\"text-align: center;\">    0    </td><td style=\"text-align: center;\">   0   </td><td style=\"text-align: center;\">  0  </td><td style=\"text-align: center;\">    0    </td><td style=\"text-align: center;\">    0     </td><td style=\"text-align: center;\">      0       </td></tr>\\n<tr><td style=\"text-align: center;\">     1      </td><td style=\"text-align: center;\"> 1995 </td><td style=\"text-align: center;\">     3.9     </td><td style=\"text-align: center;\">     1      </td><td style=\"text-align: center;\">     1      </td><td style=\"text-align: center;\">     1     </td><td style=\"text-align: center;\">    1    </td><td style=\"text-align: center;\">    1     </td><td style=\"text-align: center;\">    0     </td><td style=\"text-align: center;\">    0    </td><td style=\"text-align: center;\">   0   </td><td style=\"text-align: center;\">     0     </td><td style=\"text-align: center;\">    0     </td><td style=\"text-align: center;\">    0    </td><td style=\"text-align: center;\">   0   </td><td style=\"text-align: center;\">  0  </td><td style=\"text-align: center;\">    0    </td><td style=\"text-align: center;\">    0     </td><td style=\"text-align: center;\">      0       </td></tr>\\n<tr><td style=\"text-align: center;\">     1      </td><td style=\"text-align: center;\"> 1995 </td><td style=\"text-align: center;\">     3.9     </td><td style=\"text-align: center;\">     1      </td><td style=\"text-align: center;\">     1      </td><td style=\"text-align: center;\">     1     </td><td style=\"text-align: center;\">    1    </td><td style=\"text-align: center;\">    1     </td><td style=\"text-align: center;\">    0     </td><td style=\"text-align: center;\">    0    </td><td style=\"text-align: center;\">   0   </td><td style=\"text-align: center;\">     0     </td><td style=\"text-align: center;\">    0     </td><td style=\"text-align: center;\">    0    </td><td style=\"text-align: center;\">   0   </td><td style=\"text-align: center;\">  0  </td><td style=\"text-align: center;\">    0    </td><td style=\"text-align: center;\">    0     </td><td style=\"text-align: center;\">      0       </td></tr>\\n<tr><td style=\"text-align: center;\">     1      </td><td style=\"text-align: center;\"> 1995 </td><td style=\"text-align: center;\">     3.9     </td><td style=\"text-align: center;\">     1      </td><td style=\"text-align: center;\">     1      </td><td style=\"text-align: center;\">     1     </td><td style=\"text-align: center;\">    1    </td><td style=\"text-align: center;\">    1     </td><td style=\"text-align: center;\">    0     </td><td style=\"text-align: center;\">    0    </td><td style=\"text-align: center;\">   0   </td><td style=\"text-align: center;\">     0     </td><td style=\"text-align: center;\">    0     </td><td style=\"text-align: center;\">    0    </td><td style=\"text-align: center;\">   0   </td><td style=\"text-align: center;\">  0  </td><td style=\"text-align: center;\">    0    </td><td style=\"text-align: center;\">    0     </td><td style=\"text-align: center;\">      0       </td></tr>\\n</tbody>\\n</table>'"
      ]
     },
     "execution_count": 5,
     "metadata": {},
     "output_type": "execute_result"
    }
   ],
   "source": [
    "pprint_train(item_train, item_features, ivs, i_s, maxcount=5, user=False)"
   ]
  },
  {
   "cell_type": "code",
   "execution_count": 6,
   "id": "8105814c-424c-4375-af04-6086931a35b2",
   "metadata": {},
   "outputs": [
    {
     "name": "stdout",
     "output_type": "stream",
     "text": [
      "y_train[:5]: [4.  4.  4.5 2.5 4.5]\n"
     ]
    }
   ],
   "source": [
    "print(f\"y_train[:5]: {y_train[:5]}\")"
   ]
  },
  {
   "cell_type": "code",
   "execution_count": 7,
   "id": "4f5a1845-311b-483e-865d-b4c1d34417dd",
   "metadata": {},
   "outputs": [
    {
     "name": "stdout",
     "output_type": "stream",
     "text": [
      "True\n",
      "True\n"
     ]
    }
   ],
   "source": [
    "# scale training data\n",
    "item_train_unscaled = item_train\n",
    "user_train_unscaled = user_train\n",
    "y_train_unscaled    = y_train\n",
    "\n",
    "scalerItem = StandardScaler()\n",
    "scalerItem.fit(item_train)\n",
    "item_train = scalerItem.transform(item_train)\n",
    "\n",
    "scalerUser = StandardScaler()\n",
    "scalerUser.fit(user_train)\n",
    "user_train = scalerUser.transform(user_train)\n",
    "\n",
    "\n",
    "scalerTarget = MinMaxScaler((-1, 1))\n",
    "scalerTarget.fit(y_train.reshape(-1, 1))\n",
    "y_train = scalerTarget.transform(y_train.reshape(-1, 1))\n",
    "\n",
    "print(np.allclose(item_train_unscaled, scalerItem.inverse_transform(item_train))) # just to verify the scaling\n",
    "print(np.allclose(user_train_unscaled, scalerUser.inverse_transform(user_train)))"
   ]
  },
  {
   "cell_type": "code",
   "execution_count": 8,
   "id": "ac88ba6a-0110-4975-8d82-c1b940e6c908",
   "metadata": {},
   "outputs": [
    {
     "name": "stdout",
     "output_type": "stream",
     "text": [
      "movie/item training data shape: (80504, 19)\n",
      "movie/item test data shape: (20127, 19)\n"
     ]
    }
   ],
   "source": [
    "item_train, item_test = train_test_split(item_train, train_size=0.80, shuffle=True, random_state=1)\n",
    "user_train, user_test = train_test_split(user_train, train_size=0.80, shuffle=True, random_state=1)\n",
    "y_train, y_test       = train_test_split(y_train,    train_size=0.80, shuffle=True, random_state=1)\n",
    "print(f\"movie/item training data shape: {item_train.shape}\")\n",
    "print(f\"movie/item test data shape: {item_test.shape}\")"
   ]
  },
  {
   "cell_type": "code",
   "execution_count": 9,
   "id": "9233757a-fde2-499a-a19e-58b4da0646d7",
   "metadata": {},
   "outputs": [
    {
     "data": {
      "text/html": [
       "<table>\n",
       "<thead>\n",
       "<tr><th style=\"text-align: center;\"> [user id] </th><th style=\"text-align: center;\"> [rating count] </th><th style=\"text-align: center;\"> [rating ave] </th><th style=\"text-align: center;\"> Adve nture </th><th style=\"text-align: center;\"> Anim ation </th><th style=\"text-align: center;\"> Chil dren </th><th style=\"text-align: center;\"> Com edy </th><th style=\"text-align: center;\"> Fan tasy </th><th style=\"text-align: center;\"> Rom ance </th><th style=\"text-align: center;\"> Act ion </th><th style=\"text-align: center;\"> Crime </th><th style=\"text-align: center;\"> Thri ller </th><th style=\"text-align: center;\"> Mys tery </th><th style=\"text-align: center;\"> Hor ror </th><th style=\"text-align: center;\"> Drama </th><th style=\"text-align: center;\"> War </th><th style=\"text-align: center;\"> Sci -Fi </th><th style=\"text-align: center;\"> Mus ical </th><th style=\"text-align: center;\"> Docum entary </th></tr>\n",
       "</thead>\n",
       "<tbody>\n",
       "<tr><td style=\"text-align: center;\">     0     </td><td style=\"text-align: center;\">       0        </td><td style=\"text-align: center;\">     -1.8     </td><td style=\"text-align: center;\">    -2.4    </td><td style=\"text-align: center;\">    0.2     </td><td style=\"text-align: center;\">   -0.5    </td><td style=\"text-align: center;\">  -1.3   </td><td style=\"text-align: center;\">   -1.0   </td><td style=\"text-align: center;\">   -1.2   </td><td style=\"text-align: center;\">  -2.2   </td><td style=\"text-align: center;\"> -0.8  </td><td style=\"text-align: center;\">   -1.9    </td><td style=\"text-align: center;\">   -0.9   </td><td style=\"text-align: center;\">  -1.0   </td><td style=\"text-align: center;\"> -0.9  </td><td style=\"text-align: center;\">-0.1 </td><td style=\"text-align: center;\">  -1.7   </td><td style=\"text-align: center;\">   0.4    </td><td style=\"text-align: center;\">     -1.4     </td></tr>\n",
       "<tr><td style=\"text-align: center;\">    -1     </td><td style=\"text-align: center;\">       0        </td><td style=\"text-align: center;\">     0.8      </td><td style=\"text-align: center;\">    0.3     </td><td style=\"text-align: center;\">    0.5     </td><td style=\"text-align: center;\">    0.4    </td><td style=\"text-align: center;\">   1.0   </td><td style=\"text-align: center;\">   0.7    </td><td style=\"text-align: center;\">   0.9    </td><td style=\"text-align: center;\">   0.6   </td><td style=\"text-align: center;\">  0.5  </td><td style=\"text-align: center;\">    0.7    </td><td style=\"text-align: center;\">   0.9    </td><td style=\"text-align: center;\">   0.6   </td><td style=\"text-align: center;\">  0.8  </td><td style=\"text-align: center;\"> 0.1 </td><td style=\"text-align: center;\">   0.7   </td><td style=\"text-align: center;\">   0.6    </td><td style=\"text-align: center;\">     -0.0     </td></tr>\n",
       "<tr><td style=\"text-align: center;\">     1     </td><td style=\"text-align: center;\">       2        </td><td style=\"text-align: center;\">     -1.8     </td><td style=\"text-align: center;\">    -1.4    </td><td style=\"text-align: center;\">    -0.5    </td><td style=\"text-align: center;\">   -1.1    </td><td style=\"text-align: center;\">  -2.0   </td><td style=\"text-align: center;\">   -1.3   </td><td style=\"text-align: center;\">   -1.5   </td><td style=\"text-align: center;\">  -1.3   </td><td style=\"text-align: center;\"> -1.5  </td><td style=\"text-align: center;\">   -1.5    </td><td style=\"text-align: center;\">   -1.1   </td><td style=\"text-align: center;\">  -0.9   </td><td style=\"text-align: center;\"> -1.7  </td><td style=\"text-align: center;\">-1.0 </td><td style=\"text-align: center;\">  -1.2   </td><td style=\"text-align: center;\">   -0.7   </td><td style=\"text-align: center;\">     0.3      </td></tr>\n",
       "<tr><td style=\"text-align: center;\">     1     </td><td style=\"text-align: center;\">       0        </td><td style=\"text-align: center;\">     -1.1     </td><td style=\"text-align: center;\">    -0.6    </td><td style=\"text-align: center;\">    -0.2    </td><td style=\"text-align: center;\">   -0.4    </td><td style=\"text-align: center;\">  -0.7   </td><td style=\"text-align: center;\">   0.1    </td><td style=\"text-align: center;\">   -0.9   </td><td style=\"text-align: center;\">  -1.5   </td><td style=\"text-align: center;\"> -1.3  </td><td style=\"text-align: center;\">   -1.5    </td><td style=\"text-align: center;\">   -1.1   </td><td style=\"text-align: center;\">  -0.3   </td><td style=\"text-align: center;\"> -1.5  </td><td style=\"text-align: center;\">-1.5 </td><td style=\"text-align: center;\">  -0.9   </td><td style=\"text-align: center;\">   0.0    </td><td style=\"text-align: center;\">     0.7      </td></tr>\n",
       "<tr><td style=\"text-align: center;\">     1     </td><td style=\"text-align: center;\">       0        </td><td style=\"text-align: center;\">     -0.6     </td><td style=\"text-align: center;\">    -0.4    </td><td style=\"text-align: center;\">    -0.1    </td><td style=\"text-align: center;\">   -0.1    </td><td style=\"text-align: center;\">  -0.5   </td><td style=\"text-align: center;\">   -0.3   </td><td style=\"text-align: center;\">   -0.5   </td><td style=\"text-align: center;\">  -0.5   </td><td style=\"text-align: center;\"> -0.7  </td><td style=\"text-align: center;\">   -0.7    </td><td style=\"text-align: center;\">   -0.4   </td><td style=\"text-align: center;\">  -0.4   </td><td style=\"text-align: center;\"> -0.7  </td><td style=\"text-align: center;\">-0.6 </td><td style=\"text-align: center;\">  -0.3   </td><td style=\"text-align: center;\">   -0.0   </td><td style=\"text-align: center;\">     0.8      </td></tr>\n",
       "</tbody>\n",
       "</table>"
      ],
      "text/plain": [
       "'<table>\\n<thead>\\n<tr><th style=\"text-align: center;\"> [user id] </th><th style=\"text-align: center;\"> [rating count] </th><th style=\"text-align: center;\"> [rating ave] </th><th style=\"text-align: center;\"> Adve nture </th><th style=\"text-align: center;\"> Anim ation </th><th style=\"text-align: center;\"> Chil dren </th><th style=\"text-align: center;\"> Com edy </th><th style=\"text-align: center;\"> Fan tasy </th><th style=\"text-align: center;\"> Rom ance </th><th style=\"text-align: center;\"> Act ion </th><th style=\"text-align: center;\"> Crime </th><th style=\"text-align: center;\"> Thri ller </th><th style=\"text-align: center;\"> Mys tery </th><th style=\"text-align: center;\"> Hor ror </th><th style=\"text-align: center;\"> Drama </th><th style=\"text-align: center;\"> War </th><th style=\"text-align: center;\"> Sci -Fi </th><th style=\"text-align: center;\"> Mus ical </th><th style=\"text-align: center;\"> Docum entary </th></tr>\\n</thead>\\n<tbody>\\n<tr><td style=\"text-align: center;\">     0     </td><td style=\"text-align: center;\">       0        </td><td style=\"text-align: center;\">     -1.8     </td><td style=\"text-align: center;\">    -2.4    </td><td style=\"text-align: center;\">    0.2     </td><td style=\"text-align: center;\">   -0.5    </td><td style=\"text-align: center;\">  -1.3   </td><td style=\"text-align: center;\">   -1.0   </td><td style=\"text-align: center;\">   -1.2   </td><td style=\"text-align: center;\">  -2.2   </td><td style=\"text-align: center;\"> -0.8  </td><td style=\"text-align: center;\">   -1.9    </td><td style=\"text-align: center;\">   -0.9   </td><td style=\"text-align: center;\">  -1.0   </td><td style=\"text-align: center;\"> -0.9  </td><td style=\"text-align: center;\">-0.1 </td><td style=\"text-align: center;\">  -1.7   </td><td style=\"text-align: center;\">   0.4    </td><td style=\"text-align: center;\">     -1.4     </td></tr>\\n<tr><td style=\"text-align: center;\">    -1     </td><td style=\"text-align: center;\">       0        </td><td style=\"text-align: center;\">     0.8      </td><td style=\"text-align: center;\">    0.3     </td><td style=\"text-align: center;\">    0.5     </td><td style=\"text-align: center;\">    0.4    </td><td style=\"text-align: center;\">   1.0   </td><td style=\"text-align: center;\">   0.7    </td><td style=\"text-align: center;\">   0.9    </td><td style=\"text-align: center;\">   0.6   </td><td style=\"text-align: center;\">  0.5  </td><td style=\"text-align: center;\">    0.7    </td><td style=\"text-align: center;\">   0.9    </td><td style=\"text-align: center;\">   0.6   </td><td style=\"text-align: center;\">  0.8  </td><td style=\"text-align: center;\"> 0.1 </td><td style=\"text-align: center;\">   0.7   </td><td style=\"text-align: center;\">   0.6    </td><td style=\"text-align: center;\">     -0.0     </td></tr>\\n<tr><td style=\"text-align: center;\">     1     </td><td style=\"text-align: center;\">       2        </td><td style=\"text-align: center;\">     -1.8     </td><td style=\"text-align: center;\">    -1.4    </td><td style=\"text-align: center;\">    -0.5    </td><td style=\"text-align: center;\">   -1.1    </td><td style=\"text-align: center;\">  -2.0   </td><td style=\"text-align: center;\">   -1.3   </td><td style=\"text-align: center;\">   -1.5   </td><td style=\"text-align: center;\">  -1.3   </td><td style=\"text-align: center;\"> -1.5  </td><td style=\"text-align: center;\">   -1.5    </td><td style=\"text-align: center;\">   -1.1   </td><td style=\"text-align: center;\">  -0.9   </td><td style=\"text-align: center;\"> -1.7  </td><td style=\"text-align: center;\">-1.0 </td><td style=\"text-align: center;\">  -1.2   </td><td style=\"text-align: center;\">   -0.7   </td><td style=\"text-align: center;\">     0.3      </td></tr>\\n<tr><td style=\"text-align: center;\">     1     </td><td style=\"text-align: center;\">       0        </td><td style=\"text-align: center;\">     -1.1     </td><td style=\"text-align: center;\">    -0.6    </td><td style=\"text-align: center;\">    -0.2    </td><td style=\"text-align: center;\">   -0.4    </td><td style=\"text-align: center;\">  -0.7   </td><td style=\"text-align: center;\">   0.1    </td><td style=\"text-align: center;\">   -0.9   </td><td style=\"text-align: center;\">  -1.5   </td><td style=\"text-align: center;\"> -1.3  </td><td style=\"text-align: center;\">   -1.5    </td><td style=\"text-align: center;\">   -1.1   </td><td style=\"text-align: center;\">  -0.3   </td><td style=\"text-align: center;\"> -1.5  </td><td style=\"text-align: center;\">-1.5 </td><td style=\"text-align: center;\">  -0.9   </td><td style=\"text-align: center;\">   0.0    </td><td style=\"text-align: center;\">     0.7      </td></tr>\\n<tr><td style=\"text-align: center;\">     1     </td><td style=\"text-align: center;\">       0        </td><td style=\"text-align: center;\">     -0.6     </td><td style=\"text-align: center;\">    -0.4    </td><td style=\"text-align: center;\">    -0.1    </td><td style=\"text-align: center;\">   -0.1    </td><td style=\"text-align: center;\">  -0.5   </td><td style=\"text-align: center;\">   -0.3   </td><td style=\"text-align: center;\">   -0.5   </td><td style=\"text-align: center;\">  -0.5   </td><td style=\"text-align: center;\"> -0.7  </td><td style=\"text-align: center;\">   -0.7    </td><td style=\"text-align: center;\">   -0.4   </td><td style=\"text-align: center;\">  -0.4   </td><td style=\"text-align: center;\"> -0.7  </td><td style=\"text-align: center;\">-0.6 </td><td style=\"text-align: center;\">  -0.3   </td><td style=\"text-align: center;\">   -0.0   </td><td style=\"text-align: center;\">     0.8      </td></tr>\\n</tbody>\\n</table>'"
      ]
     },
     "execution_count": 9,
     "metadata": {},
     "output_type": "execute_result"
    }
   ],
   "source": [
    "pprint_train(user_train, user_features, uvs, u_s, maxcount=5)"
   ]
  },
  {
   "cell_type": "code",
   "execution_count": 10,
   "id": "53d39789-c1a2-4375-9f01-e9e527bf4982",
   "metadata": {},
   "outputs": [
    {
     "name": "stdout",
     "output_type": "stream",
     "text": [
      "WARNING:tensorflow:From C:\\Users\\ajayr\\Machine_Learning_Projects\\vml\\Lib\\site-packages\\keras\\src\\backend\\tensorflow\\core.py:232: The name tf.placeholder is deprecated. Please use tf.compat.v1.placeholder instead.\n",
      "\n"
     ]
    },
    {
     "data": {
      "text/html": [
       "<pre style=\"white-space:pre;overflow-x:auto;line-height:normal;font-family:Menlo,'DejaVu Sans Mono',consolas,'Courier New',monospace\"><span style=\"font-weight: bold\">Model: \"functional_2\"</span>\n",
       "</pre>\n"
      ],
      "text/plain": [
       "\u001b[1mModel: \"functional_2\"\u001b[0m\n"
      ]
     },
     "metadata": {},
     "output_type": "display_data"
    },
    {
     "data": {
      "text/html": [
       "<pre style=\"white-space:pre;overflow-x:auto;line-height:normal;font-family:Menlo,'DejaVu Sans Mono',consolas,'Courier New',monospace\">┏━━━━━━━━━━━━━━━━━━━━━━━━━━━━━━━┳━━━━━━━━━━━━━━━━━━━━━━━━━━━┳━━━━━━━━━━━━━━━━━┳━━━━━━━━━━━━━━━━━━━━━━━━━━━━┓\n",
       "┃<span style=\"font-weight: bold\"> Layer (type)                  </span>┃<span style=\"font-weight: bold\"> Output Shape              </span>┃<span style=\"font-weight: bold\">         Param # </span>┃<span style=\"font-weight: bold\"> Connected to               </span>┃\n",
       "┡━━━━━━━━━━━━━━━━━━━━━━━━━━━━━━━╇━━━━━━━━━━━━━━━━━━━━━━━━━━━╇━━━━━━━━━━━━━━━━━╇━━━━━━━━━━━━━━━━━━━━━━━━━━━━┩\n",
       "│ input_layer (<span style=\"color: #0087ff; text-decoration-color: #0087ff\">InputLayer</span>)      │ (<span style=\"color: #00d7ff; text-decoration-color: #00d7ff\">None</span>, <span style=\"color: #00af00; text-decoration-color: #00af00\">16</span>)                │               <span style=\"color: #00af00; text-decoration-color: #00af00\">0</span> │ -                          │\n",
       "├───────────────────────────────┼───────────────────────────┼─────────────────┼────────────────────────────┤\n",
       "│ input_layer_2 (<span style=\"color: #0087ff; text-decoration-color: #0087ff\">InputLayer</span>)    │ (<span style=\"color: #00d7ff; text-decoration-color: #00d7ff\">None</span>, <span style=\"color: #00af00; text-decoration-color: #00af00\">18</span>)                │               <span style=\"color: #00af00; text-decoration-color: #00af00\">0</span> │ -                          │\n",
       "├───────────────────────────────┼───────────────────────────┼─────────────────┼────────────────────────────┤\n",
       "│ sequential (<span style=\"color: #0087ff; text-decoration-color: #0087ff\">Sequential</span>)       │ (<span style=\"color: #00d7ff; text-decoration-color: #00d7ff\">None</span>, <span style=\"color: #00af00; text-decoration-color: #00af00\">32</span>)                │         <span style=\"color: #00af00; text-decoration-color: #00af00\">148,256</span> │ input_layer[<span style=\"color: #00af00; text-decoration-color: #00af00\">0</span>][<span style=\"color: #00af00; text-decoration-color: #00af00\">0</span>]          │\n",
       "├───────────────────────────────┼───────────────────────────┼─────────────────┼────────────────────────────┤\n",
       "│ sequential_1 (<span style=\"color: #0087ff; text-decoration-color: #0087ff\">Sequential</span>)     │ (<span style=\"color: #00d7ff; text-decoration-color: #00d7ff\">None</span>, <span style=\"color: #00af00; text-decoration-color: #00af00\">32</span>)                │         <span style=\"color: #00af00; text-decoration-color: #00af00\">149,280</span> │ input_layer_2[<span style=\"color: #00af00; text-decoration-color: #00af00\">0</span>][<span style=\"color: #00af00; text-decoration-color: #00af00\">0</span>]        │\n",
       "├───────────────────────────────┼───────────────────────────┼─────────────────┼────────────────────────────┤\n",
       "│ l2_normalize_layer            │ (<span style=\"color: #00d7ff; text-decoration-color: #00d7ff\">None</span>, <span style=\"color: #00af00; text-decoration-color: #00af00\">32</span>)                │               <span style=\"color: #00af00; text-decoration-color: #00af00\">0</span> │ sequential[<span style=\"color: #00af00; text-decoration-color: #00af00\">0</span>][<span style=\"color: #00af00; text-decoration-color: #00af00\">0</span>]           │\n",
       "│ (<span style=\"color: #0087ff; text-decoration-color: #0087ff\">L2NormalizeLayer</span>)            │                           │                 │                            │\n",
       "├───────────────────────────────┼───────────────────────────┼─────────────────┼────────────────────────────┤\n",
       "│ l2_normalize_layer_1          │ (<span style=\"color: #00d7ff; text-decoration-color: #00d7ff\">None</span>, <span style=\"color: #00af00; text-decoration-color: #00af00\">32</span>)                │               <span style=\"color: #00af00; text-decoration-color: #00af00\">0</span> │ sequential_1[<span style=\"color: #00af00; text-decoration-color: #00af00\">0</span>][<span style=\"color: #00af00; text-decoration-color: #00af00\">0</span>]         │\n",
       "│ (<span style=\"color: #0087ff; text-decoration-color: #0087ff\">L2NormalizeLayer</span>)            │                           │                 │                            │\n",
       "├───────────────────────────────┼───────────────────────────┼─────────────────┼────────────────────────────┤\n",
       "│ dot (<span style=\"color: #0087ff; text-decoration-color: #0087ff\">Dot</span>)                     │ (<span style=\"color: #00d7ff; text-decoration-color: #00d7ff\">None</span>, <span style=\"color: #00af00; text-decoration-color: #00af00\">1</span>)                 │               <span style=\"color: #00af00; text-decoration-color: #00af00\">0</span> │ l2_normalize_layer[<span style=\"color: #00af00; text-decoration-color: #00af00\">0</span>][<span style=\"color: #00af00; text-decoration-color: #00af00\">0</span>],  │\n",
       "│                               │                           │                 │ l2_normalize_layer_1[<span style=\"color: #00af00; text-decoration-color: #00af00\">0</span>][<span style=\"color: #00af00; text-decoration-color: #00af00\">0</span>] │\n",
       "└───────────────────────────────┴───────────────────────────┴─────────────────┴────────────────────────────┘\n",
       "</pre>\n"
      ],
      "text/plain": [
       "┏━━━━━━━━━━━━━━━━━━━━━━━━━━━━━━━┳━━━━━━━━━━━━━━━━━━━━━━━━━━━┳━━━━━━━━━━━━━━━━━┳━━━━━━━━━━━━━━━━━━━━━━━━━━━━┓\n",
       "┃\u001b[1m \u001b[0m\u001b[1mLayer (type)                 \u001b[0m\u001b[1m \u001b[0m┃\u001b[1m \u001b[0m\u001b[1mOutput Shape             \u001b[0m\u001b[1m \u001b[0m┃\u001b[1m \u001b[0m\u001b[1m        Param #\u001b[0m\u001b[1m \u001b[0m┃\u001b[1m \u001b[0m\u001b[1mConnected to              \u001b[0m\u001b[1m \u001b[0m┃\n",
       "┡━━━━━━━━━━━━━━━━━━━━━━━━━━━━━━━╇━━━━━━━━━━━━━━━━━━━━━━━━━━━╇━━━━━━━━━━━━━━━━━╇━━━━━━━━━━━━━━━━━━━━━━━━━━━━┩\n",
       "│ input_layer (\u001b[38;5;33mInputLayer\u001b[0m)      │ (\u001b[38;5;45mNone\u001b[0m, \u001b[38;5;34m16\u001b[0m)                │               \u001b[38;5;34m0\u001b[0m │ -                          │\n",
       "├───────────────────────────────┼───────────────────────────┼─────────────────┼────────────────────────────┤\n",
       "│ input_layer_2 (\u001b[38;5;33mInputLayer\u001b[0m)    │ (\u001b[38;5;45mNone\u001b[0m, \u001b[38;5;34m18\u001b[0m)                │               \u001b[38;5;34m0\u001b[0m │ -                          │\n",
       "├───────────────────────────────┼───────────────────────────┼─────────────────┼────────────────────────────┤\n",
       "│ sequential (\u001b[38;5;33mSequential\u001b[0m)       │ (\u001b[38;5;45mNone\u001b[0m, \u001b[38;5;34m32\u001b[0m)                │         \u001b[38;5;34m148,256\u001b[0m │ input_layer[\u001b[38;5;34m0\u001b[0m][\u001b[38;5;34m0\u001b[0m]          │\n",
       "├───────────────────────────────┼───────────────────────────┼─────────────────┼────────────────────────────┤\n",
       "│ sequential_1 (\u001b[38;5;33mSequential\u001b[0m)     │ (\u001b[38;5;45mNone\u001b[0m, \u001b[38;5;34m32\u001b[0m)                │         \u001b[38;5;34m149,280\u001b[0m │ input_layer_2[\u001b[38;5;34m0\u001b[0m][\u001b[38;5;34m0\u001b[0m]        │\n",
       "├───────────────────────────────┼───────────────────────────┼─────────────────┼────────────────────────────┤\n",
       "│ l2_normalize_layer            │ (\u001b[38;5;45mNone\u001b[0m, \u001b[38;5;34m32\u001b[0m)                │               \u001b[38;5;34m0\u001b[0m │ sequential[\u001b[38;5;34m0\u001b[0m][\u001b[38;5;34m0\u001b[0m]           │\n",
       "│ (\u001b[38;5;33mL2NormalizeLayer\u001b[0m)            │                           │                 │                            │\n",
       "├───────────────────────────────┼───────────────────────────┼─────────────────┼────────────────────────────┤\n",
       "│ l2_normalize_layer_1          │ (\u001b[38;5;45mNone\u001b[0m, \u001b[38;5;34m32\u001b[0m)                │               \u001b[38;5;34m0\u001b[0m │ sequential_1[\u001b[38;5;34m0\u001b[0m][\u001b[38;5;34m0\u001b[0m]         │\n",
       "│ (\u001b[38;5;33mL2NormalizeLayer\u001b[0m)            │                           │                 │                            │\n",
       "├───────────────────────────────┼───────────────────────────┼─────────────────┼────────────────────────────┤\n",
       "│ dot (\u001b[38;5;33mDot\u001b[0m)                     │ (\u001b[38;5;45mNone\u001b[0m, \u001b[38;5;34m1\u001b[0m)                 │               \u001b[38;5;34m0\u001b[0m │ l2_normalize_layer[\u001b[38;5;34m0\u001b[0m][\u001b[38;5;34m0\u001b[0m],  │\n",
       "│                               │                           │                 │ l2_normalize_layer_1[\u001b[38;5;34m0\u001b[0m][\u001b[38;5;34m0\u001b[0m] │\n",
       "└───────────────────────────────┴───────────────────────────┴─────────────────┴────────────────────────────┘\n"
      ]
     },
     "metadata": {},
     "output_type": "display_data"
    },
    {
     "data": {
      "text/html": [
       "<pre style=\"white-space:pre;overflow-x:auto;line-height:normal;font-family:Menlo,'DejaVu Sans Mono',consolas,'Courier New',monospace\"><span style=\"font-weight: bold\"> Total params: </span><span style=\"color: #00af00; text-decoration-color: #00af00\">297,536</span> (1.14 MB)\n",
       "</pre>\n"
      ],
      "text/plain": [
       "\u001b[1m Total params: \u001b[0m\u001b[38;5;34m297,536\u001b[0m (1.14 MB)\n"
      ]
     },
     "metadata": {},
     "output_type": "display_data"
    },
    {
     "data": {
      "text/html": [
       "<pre style=\"white-space:pre;overflow-x:auto;line-height:normal;font-family:Menlo,'DejaVu Sans Mono',consolas,'Courier New',monospace\"><span style=\"font-weight: bold\"> Trainable params: </span><span style=\"color: #00af00; text-decoration-color: #00af00\">297,536</span> (1.14 MB)\n",
       "</pre>\n"
      ],
      "text/plain": [
       "\u001b[1m Trainable params: \u001b[0m\u001b[38;5;34m297,536\u001b[0m (1.14 MB)\n"
      ]
     },
     "metadata": {},
     "output_type": "display_data"
    },
    {
     "data": {
      "text/html": [
       "<pre style=\"white-space:pre;overflow-x:auto;line-height:normal;font-family:Menlo,'DejaVu Sans Mono',consolas,'Courier New',monospace\"><span style=\"font-weight: bold\"> Non-trainable params: </span><span style=\"color: #00af00; text-decoration-color: #00af00\">0</span> (0.00 B)\n",
       "</pre>\n"
      ],
      "text/plain": [
       "\u001b[1m Non-trainable params: \u001b[0m\u001b[38;5;34m0\u001b[0m (0.00 B)\n"
      ]
     },
     "metadata": {},
     "output_type": "display_data"
    }
   ],
   "source": [
    "class L2NormalizeLayer(Layer):\n",
    "    def __init__(self, axis=-1, **kwargs):\n",
    "        super().__init__(**kwargs)\n",
    "        self.axis = axis\n",
    "\n",
    "    def call(self, inputs):\n",
    "        return tf.linalg.l2_normalize(inputs, axis=self.axis)\n",
    "\n",
    "\n",
    "num_outputs = 32 \n",
    "tf.random.set_seed(1)\n",
    "user_NN = tf.keras.models.Sequential([\n",
    "    tf.keras.layers.Dense(units=512, activation='relu'),\n",
    "    tf.keras.layers.Dense(units=256, activation='relu'),\n",
    "    tf.keras.layers.Dense(units=num_outputs)\n",
    "])\n",
    "\n",
    "item_NN = tf.keras.models.Sequential([\n",
    "    tf.keras.layers.Dense(units=512, activation='relu'),\n",
    "    tf.keras.layers.Dense(units=256, activation='relu'),\n",
    "    tf.keras.layers.Dense(units=num_outputs)\n",
    "])\n",
    "\n",
    "# creating the user input and point to the base network\n",
    "input_user = tf.keras.layers.Input(shape=(num_user_features,)) # Corrected shape here too\n",
    "vu = user_NN(input_user)\n",
    "\n",
    "# Apply L2 normalization using the custom layer\n",
    "vu = L2NormalizeLayer(axis=1)(vu) \n",
    "\n",
    "# creating the item input and point to the base network\n",
    "input_item = tf.keras.layers.Input(shape=(num_item_features,)) # Corrected shape here\n",
    "vm = item_NN(input_item)\n",
    "\n",
    "# Apply L2 normalization using the custom layer\n",
    "vm = L2NormalizeLayer(axis=1)(vm) # FIX IS HERE\n",
    "\n",
    "# computing the dot product of the two vectors vu and vm\n",
    "output = tf.keras.layers.Dot(axes=1)([vu, vm])\n",
    "\n",
    "# specifying the inputs and output of the model\n",
    "model = tf.keras.Model([input_user, input_item], output)\n",
    "\n",
    "model.summary()"
   ]
  },
  {
   "cell_type": "code",
   "execution_count": 11,
   "id": "4ad8d62e-b592-4e69-bdbe-f262bc7c8486",
   "metadata": {},
   "outputs": [],
   "source": [
    "tf.random.set_seed(1)\n",
    "cost_fn = tf.keras.losses.MeanSquaredError()\n",
    "opt = keras.optimizers.Adam(learning_rate=0.01)\n",
    "model.compile(optimizer=opt,\n",
    "              loss=cost_fn)"
   ]
  },
  {
   "cell_type": "code",
   "execution_count": 12,
   "id": "7080230b-269f-4fe5-af91-e52b0e11972c",
   "metadata": {},
   "outputs": [
    {
     "name": "stdout",
     "output_type": "stream",
     "text": [
      "(80504, 19)\n",
      "(80504, 19)\n",
      "(80504, 1)\n",
      "(None, 16)\n"
     ]
    }
   ],
   "source": [
    "print(user_train.shape)\n",
    "print(item_train.shape)\n",
    "print(y_train.shape)\n",
    "print(input_user.shape)\n"
   ]
  },
  {
   "cell_type": "code",
   "execution_count": 13,
   "id": "e993679b-4b15-4937-93f9-3f6c3c341c7f",
   "metadata": {},
   "outputs": [
    {
     "name": "stdout",
     "output_type": "stream",
     "text": [
      "Shape of user_input: (80504, 16)\n",
      "Shape of item_input: (80504, 18)\n",
      "Shape of y_train: (80504, 1)\n"
     ]
    }
   ],
   "source": [
    "print(f\"Shape of user_input: {user_train[:, u_s:].shape}\")\n",
    "print(f\"Shape of item_input: {item_train[:, i_s:].shape}\")\n",
    "print(f\"Shape of y_train: {y_train.shape}\")"
   ]
  },
  {
   "cell_type": "code",
   "execution_count": 14,
   "id": "b7181864-48d9-4f88-9adf-7435e12bea79",
   "metadata": {},
   "outputs": [
    {
     "name": "stdout",
     "output_type": "stream",
     "text": [
      "Epoch 1/30\n",
      "\u001b[1m2516/2516\u001b[0m \u001b[32m━━━━━━━━━━━━━━━━━━━━\u001b[0m\u001b[37m\u001b[0m \u001b[1m30s\u001b[0m 9ms/step - loss: 0.1350\n",
      "Epoch 2/30\n",
      "\u001b[1m2516/2516\u001b[0m \u001b[32m━━━━━━━━━━━━━━━━━━━━\u001b[0m\u001b[37m\u001b[0m \u001b[1m47s\u001b[0m 12ms/step - loss: 0.1285\n",
      "Epoch 3/30\n",
      "\u001b[1m2516/2516\u001b[0m \u001b[32m━━━━━━━━━━━━━━━━━━━━\u001b[0m\u001b[37m\u001b[0m \u001b[1m43s\u001b[0m 12ms/step - loss: 0.1261\n",
      "Epoch 4/30\n",
      "\u001b[1m2516/2516\u001b[0m \u001b[32m━━━━━━━━━━━━━━━━━━━━\u001b[0m\u001b[37m\u001b[0m \u001b[1m40s\u001b[0m 12ms/step - loss: 0.1248\n",
      "Epoch 5/30\n",
      "\u001b[1m2516/2516\u001b[0m \u001b[32m━━━━━━━━━━━━━━━━━━━━\u001b[0m\u001b[37m\u001b[0m \u001b[1m42s\u001b[0m 12ms/step - loss: 0.1235\n",
      "Epoch 6/30\n",
      "\u001b[1m2516/2516\u001b[0m \u001b[32m━━━━━━━━━━━━━━━━━━━━\u001b[0m\u001b[37m\u001b[0m \u001b[1m38s\u001b[0m 11ms/step - loss: 0.1221\n",
      "Epoch 7/30\n",
      "\u001b[1m2516/2516\u001b[0m \u001b[32m━━━━━━━━━━━━━━━━━━━━\u001b[0m\u001b[37m\u001b[0m \u001b[1m43s\u001b[0m 12ms/step - loss: 0.1207\n",
      "Epoch 8/30\n",
      "\u001b[1m2516/2516\u001b[0m \u001b[32m━━━━━━━━━━━━━━━━━━━━\u001b[0m\u001b[37m\u001b[0m \u001b[1m43s\u001b[0m 13ms/step - loss: 0.1193\n",
      "Epoch 9/30\n",
      "\u001b[1m2516/2516\u001b[0m \u001b[32m━━━━━━━━━━━━━━━━━━━━\u001b[0m\u001b[37m\u001b[0m \u001b[1m41s\u001b[0m 13ms/step - loss: 0.1181\n",
      "Epoch 10/30\n",
      "\u001b[1m2516/2516\u001b[0m \u001b[32m━━━━━━━━━━━━━━━━━━━━\u001b[0m\u001b[37m\u001b[0m \u001b[1m41s\u001b[0m 13ms/step - loss: 0.1171\n",
      "Epoch 11/30\n",
      "\u001b[1m2516/2516\u001b[0m \u001b[32m━━━━━━━━━━━━━━━━━━━━\u001b[0m\u001b[37m\u001b[0m \u001b[1m43s\u001b[0m 13ms/step - loss: 0.1163\n",
      "Epoch 12/30\n",
      "\u001b[1m2516/2516\u001b[0m \u001b[32m━━━━━━━━━━━━━━━━━━━━\u001b[0m\u001b[37m\u001b[0m \u001b[1m34s\u001b[0m 13ms/step - loss: 0.1155\n",
      "Epoch 13/30\n",
      "\u001b[1m2516/2516\u001b[0m \u001b[32m━━━━━━━━━━━━━━━━━━━━\u001b[0m\u001b[37m\u001b[0m \u001b[1m41s\u001b[0m 13ms/step - loss: 0.1148\n",
      "Epoch 14/30\n",
      "\u001b[1m2516/2516\u001b[0m \u001b[32m━━━━━━━━━━━━━━━━━━━━\u001b[0m\u001b[37m\u001b[0m \u001b[1m39s\u001b[0m 12ms/step - loss: 0.1141\n",
      "Epoch 15/30\n",
      "\u001b[1m2516/2516\u001b[0m \u001b[32m━━━━━━━━━━━━━━━━━━━━\u001b[0m\u001b[37m\u001b[0m \u001b[1m42s\u001b[0m 13ms/step - loss: 0.1134\n",
      "Epoch 16/30\n",
      "\u001b[1m2516/2516\u001b[0m \u001b[32m━━━━━━━━━━━━━━━━━━━━\u001b[0m\u001b[37m\u001b[0m \u001b[1m40s\u001b[0m 13ms/step - loss: 0.1128\n",
      "Epoch 17/30\n",
      "\u001b[1m2516/2516\u001b[0m \u001b[32m━━━━━━━━━━━━━━━━━━━━\u001b[0m\u001b[37m\u001b[0m \u001b[1m37s\u001b[0m 11ms/step - loss: 0.1122\n",
      "Epoch 18/30\n",
      "\u001b[1m2516/2516\u001b[0m \u001b[32m━━━━━━━━━━━━━━━━━━━━\u001b[0m\u001b[37m\u001b[0m \u001b[1m41s\u001b[0m 11ms/step - loss: 0.1117\n",
      "Epoch 19/30\n",
      "\u001b[1m2516/2516\u001b[0m \u001b[32m━━━━━━━━━━━━━━━━━━━━\u001b[0m\u001b[37m\u001b[0m \u001b[1m41s\u001b[0m 11ms/step - loss: 0.1111\n",
      "Epoch 20/30\n",
      "\u001b[1m2516/2516\u001b[0m \u001b[32m━━━━━━━━━━━━━━━━━━━━\u001b[0m\u001b[37m\u001b[0m \u001b[1m42s\u001b[0m 11ms/step - loss: 0.1105\n",
      "Epoch 21/30\n",
      "\u001b[1m2516/2516\u001b[0m \u001b[32m━━━━━━━━━━━━━━━━━━━━\u001b[0m\u001b[37m\u001b[0m \u001b[1m41s\u001b[0m 11ms/step - loss: 0.1099\n",
      "Epoch 22/30\n",
      "\u001b[1m2516/2516\u001b[0m \u001b[32m━━━━━━━━━━━━━━━━━━━━\u001b[0m\u001b[37m\u001b[0m \u001b[1m28s\u001b[0m 11ms/step - loss: 0.1094\n",
      "Epoch 23/30\n",
      "\u001b[1m2516/2516\u001b[0m \u001b[32m━━━━━━━━━━━━━━━━━━━━\u001b[0m\u001b[37m\u001b[0m \u001b[1m43s\u001b[0m 12ms/step - loss: 0.1089\n",
      "Epoch 24/30\n",
      "\u001b[1m2516/2516\u001b[0m \u001b[32m━━━━━━━━━━━━━━━━━━━━\u001b[0m\u001b[37m\u001b[0m \u001b[1m29s\u001b[0m 12ms/step - loss: 0.1084\n",
      "Epoch 25/30\n",
      "\u001b[1m2516/2516\u001b[0m \u001b[32m━━━━━━━━━━━━━━━━━━━━\u001b[0m\u001b[37m\u001b[0m \u001b[1m41s\u001b[0m 11ms/step - loss: 0.1079\n",
      "Epoch 26/30\n",
      "\u001b[1m2516/2516\u001b[0m \u001b[32m━━━━━━━━━━━━━━━━━━━━\u001b[0m\u001b[37m\u001b[0m \u001b[1m28s\u001b[0m 11ms/step - loss: 0.1075\n",
      "Epoch 27/30\n",
      "\u001b[1m2516/2516\u001b[0m \u001b[32m━━━━━━━━━━━━━━━━━━━━\u001b[0m\u001b[37m\u001b[0m \u001b[1m26s\u001b[0m 10ms/step - loss: 0.1070\n",
      "Epoch 28/30\n",
      "\u001b[1m2516/2516\u001b[0m \u001b[32m━━━━━━━━━━━━━━━━━━━━\u001b[0m\u001b[37m\u001b[0m \u001b[1m619s\u001b[0m 11ms/step - loss: 0.1066\n",
      "Epoch 29/30\n",
      "\u001b[1m2516/2516\u001b[0m \u001b[32m━━━━━━━━━━━━━━━━━━━━\u001b[0m\u001b[37m\u001b[0m \u001b[1m28s\u001b[0m 11ms/step - loss: 0.1062\n",
      "Epoch 30/30\n",
      "\u001b[1m2516/2516\u001b[0m \u001b[32m━━━━━━━━━━━━━━━━━━━━\u001b[0m\u001b[37m\u001b[0m \u001b[1m28s\u001b[0m 11ms/step - loss: 0.1057\n"
     ]
    },
    {
     "data": {
      "text/plain": [
       "<keras.src.callbacks.history.History at 0x1f18a52c830>"
      ]
     },
     "execution_count": 14,
     "metadata": {},
     "output_type": "execute_result"
    }
   ],
   "source": [
    "tf.random.set_seed(1)\n",
    "model.fit([user_train[:, u_s:], item_train[:, i_s:]], y_train, epochs=30)"
   ]
  },
  {
   "cell_type": "code",
   "execution_count": 14,
   "id": "a5448d0f-33d6-43f2-8780-ccb3306869c1",
   "metadata": {},
   "outputs": [
    {
     "name": "stdout",
     "output_type": "stream",
     "text": [
      "\u001b[1m629/629\u001b[0m \u001b[32m━━━━━━━━━━━━━━━━━━━━\u001b[0m\u001b[37m\u001b[0m \u001b[1m4s\u001b[0m 6ms/step - loss: 0.1199\n"
     ]
    },
    {
     "data": {
      "text/plain": [
       "0.11985336989164352"
      ]
     },
     "execution_count": 14,
     "metadata": {},
     "output_type": "execute_result"
    }
   ],
   "source": [
    "model.evaluate([user_test[:, u_s:], item_test[:, i_s:]], y_test)"
   ]
  },
  {
   "cell_type": "markdown",
   "id": "6f1ba20a-ecfd-485f-a86f-3c1d27d5dda2",
   "metadata": {},
   "source": [
    "predictions "
   ]
  },
  {
   "cell_type": "code",
   "execution_count": 16,
   "id": "b0ce5552-8f81-4749-9653-6e31575a4e9b",
   "metadata": {},
   "outputs": [],
   "source": [
    "new_user_id = 5000\n",
    "new_rating_ave = 0.0\n",
    "new_action = 0.0\n",
    "new_adventure = 5.0\n",
    "new_animation = 0.0\n",
    "new_childrens = 0.0\n",
    "new_comedy = 0.0\n",
    "new_crime = 0.0\n",
    "new_documentary = 0.0\n",
    "new_drama = 0.0\n",
    "new_fantasy = 5.0\n",
    "new_horror = 0.0\n",
    "new_mystery = 0.0\n",
    "new_romance = 0.0\n",
    "new_scifi = 0.0\n",
    "new_thriller = 0.0\n",
    "new_rating_count = 3\n",
    "new_musical =0.0\n",
    "new_war = 0.0\n",
    "\n",
    "user_vec = np.array([[new_user_id, new_rating_count, new_rating_ave,\n",
    "                      new_adventure, new_animation, new_childrens,\n",
    "                      new_comedy, new_fantasy, new_romance, new_action, \n",
    "                      new_crime, new_thriller, new_mystery, new_horror,\n",
    "                      new_drama, new_war, new_scifi, new_musical, new_documentary                       \n",
    "                       ]])"
   ]
  },
  {
   "cell_type": "markdown",
   "id": "7b39fa1b-b48a-4101-a94f-17367d9c57b1",
   "metadata": {},
   "source": [
    "\n",
    "##  Predictions\n",
    "This model is used to make predictions in a number of circumstances. \n",
    "<\n",
    "###  Predictions for a new user\n",
    "First, we'll create a new user and have the model suggest movies for that user. After tried this on the example user content, feel free to change the user content to match your own preferences and see what the model suggests. Note that ratings are between 0.5 and 5.0, inclusive, in half-step increments."
   ]
  },
  {
   "cell_type": "code",
   "execution_count": 17,
   "id": "dac47e8c-dd41-47f4-84de-9096fa4f92a8",
   "metadata": {},
   "outputs": [
    {
     "name": "stdout",
     "output_type": "stream",
     "text": [
      "\u001b[1m302/302\u001b[0m \u001b[32m━━━━━━━━━━━━━━━━━━━━\u001b[0m\u001b[37m\u001b[0m \u001b[1m2s\u001b[0m 6ms/step\n"
     ]
    },
    {
     "data": {
      "text/html": [
       "<table>\n",
       "<thead>\n",
       "<tr><th style=\"text-align: right;\">  y_p</th><th style=\"text-align: right;\">  movie id</th><th style=\"text-align: right;\">  rating ave</th><th>title                                              </th><th>genres                         </th></tr>\n",
       "</thead>\n",
       "<tbody>\n",
       "<tr><td style=\"text-align: right;\">  3.9</td><td style=\"text-align: right;\">     98809</td><td style=\"text-align: right;\">         3.8</td><td>Hobbit: An Unexpected Journey, The (2012)          </td><td>Adventure|Fantasy|IMAX         </td></tr>\n",
       "<tr><td style=\"text-align: right;\">  3.8</td><td style=\"text-align: right;\">     60818</td><td style=\"text-align: right;\">         4  </td><td>Hogfather (Terry Pratchett&#x27;s Hogfather) (2006)     </td><td>Adventure|Fantasy|Thriller     </td></tr>\n",
       "<tr><td style=\"text-align: right;\">  3.8</td><td style=\"text-align: right;\">      8368</td><td style=\"text-align: right;\">         3.9</td><td>Harry Potter and the Prisoner of Azkaban (2004)    </td><td>Adventure|Fantasy|IMAX         </td></tr>\n",
       "<tr><td style=\"text-align: right;\">  3.8</td><td style=\"text-align: right;\">    180031</td><td style=\"text-align: right;\">         3.7</td><td>The Shape of Water (2017)                          </td><td>Adventure|Drama|Fantasy        </td></tr>\n",
       "<tr><td style=\"text-align: right;\">  3.8</td><td style=\"text-align: right;\">     40815</td><td style=\"text-align: right;\">         3.8</td><td>Harry Potter and the Goblet of Fire (2005)         </td><td>Adventure|Fantasy|Thriller|IMAX</td></tr>\n",
       "<tr><td style=\"text-align: right;\">  3.8</td><td style=\"text-align: right;\">    128842</td><td style=\"text-align: right;\">         4  </td><td>Dragonheart 3: The Sorcerer&#x27;s Curse (2015)         </td><td>Action|Adventure|Fantasy       </td></tr>\n",
       "<tr><td style=\"text-align: right;\">  3.8</td><td style=\"text-align: right;\">    137857</td><td style=\"text-align: right;\">         3.6</td><td>The Jungle Book (2016)                             </td><td>Adventure|Drama|Fantasy        </td></tr>\n",
       "<tr><td style=\"text-align: right;\">  3.8</td><td style=\"text-align: right;\">      5952</td><td style=\"text-align: right;\">         4  </td><td>Lord of the Rings: The Two Towers, The (2002)      </td><td>Adventure|Fantasy              </td></tr>\n",
       "<tr><td style=\"text-align: right;\">  3.8</td><td style=\"text-align: right;\">    122926</td><td style=\"text-align: right;\">         4.2</td><td>Untitled Spider-Man Reboot (2017)                  </td><td>Action|Adventure|Fantasy       </td></tr>\n",
       "<tr><td style=\"text-align: right;\">  3.7</td><td style=\"text-align: right;\">     81834</td><td style=\"text-align: right;\">         4  </td><td>Harry Potter and the Deathly Hallows: Part 1 (2010)</td><td>Action|Adventure|Fantasy|IMAX  </td></tr>\n",
       "</tbody>\n",
       "</table>"
      ],
      "text/plain": [
       "'<table>\\n<thead>\\n<tr><th style=\"text-align: right;\">  y_p</th><th style=\"text-align: right;\">  movie id</th><th style=\"text-align: right;\">  rating ave</th><th>title                                              </th><th>genres                         </th></tr>\\n</thead>\\n<tbody>\\n<tr><td style=\"text-align: right;\">  3.9</td><td style=\"text-align: right;\">     98809</td><td style=\"text-align: right;\">         3.8</td><td>Hobbit: An Unexpected Journey, The (2012)          </td><td>Adventure|Fantasy|IMAX         </td></tr>\\n<tr><td style=\"text-align: right;\">  3.8</td><td style=\"text-align: right;\">     60818</td><td style=\"text-align: right;\">         4  </td><td>Hogfather (Terry Pratchett&#x27;s Hogfather) (2006)     </td><td>Adventure|Fantasy|Thriller     </td></tr>\\n<tr><td style=\"text-align: right;\">  3.8</td><td style=\"text-align: right;\">      8368</td><td style=\"text-align: right;\">         3.9</td><td>Harry Potter and the Prisoner of Azkaban (2004)    </td><td>Adventure|Fantasy|IMAX         </td></tr>\\n<tr><td style=\"text-align: right;\">  3.8</td><td style=\"text-align: right;\">    180031</td><td style=\"text-align: right;\">         3.7</td><td>The Shape of Water (2017)                          </td><td>Adventure|Drama|Fantasy        </td></tr>\\n<tr><td style=\"text-align: right;\">  3.8</td><td style=\"text-align: right;\">     40815</td><td style=\"text-align: right;\">         3.8</td><td>Harry Potter and the Goblet of Fire (2005)         </td><td>Adventure|Fantasy|Thriller|IMAX</td></tr>\\n<tr><td style=\"text-align: right;\">  3.8</td><td style=\"text-align: right;\">    128842</td><td style=\"text-align: right;\">         4  </td><td>Dragonheart 3: The Sorcerer&#x27;s Curse (2015)         </td><td>Action|Adventure|Fantasy       </td></tr>\\n<tr><td style=\"text-align: right;\">  3.8</td><td style=\"text-align: right;\">    137857</td><td style=\"text-align: right;\">         3.6</td><td>The Jungle Book (2016)                             </td><td>Adventure|Drama|Fantasy        </td></tr>\\n<tr><td style=\"text-align: right;\">  3.8</td><td style=\"text-align: right;\">      5952</td><td style=\"text-align: right;\">         4  </td><td>Lord of the Rings: The Two Towers, The (2002)      </td><td>Adventure|Fantasy              </td></tr>\\n<tr><td style=\"text-align: right;\">  3.8</td><td style=\"text-align: right;\">    122926</td><td style=\"text-align: right;\">         4.2</td><td>Untitled Spider-Man Reboot (2017)                  </td><td>Action|Adventure|Fantasy       </td></tr>\\n<tr><td style=\"text-align: right;\">  3.7</td><td style=\"text-align: right;\">     81834</td><td style=\"text-align: right;\">         4  </td><td>Harry Potter and the Deathly Hallows: Part 1 (2010)</td><td>Action|Adventure|Fantasy|IMAX  </td></tr>\\n</tbody>\\n</table>'"
      ]
     },
     "execution_count": 17,
     "metadata": {},
     "output_type": "execute_result"
    }
   ],
   "source": [
    "# generate and replicate the user vector to match the number movies in the data set.\n",
    "user_vecs = gen_user_vecs(user_vec,len(item_vecs))\n",
    "\n",
    "# scale our user and item vectors\n",
    "suser_vecs = scalerUser.transform(user_vecs)\n",
    "sitem_vecs = scalerItem.transform(item_vecs)\n",
    "\n",
    "# make a prediction\n",
    "y_p = model.predict([suser_vecs[:, u_s:], sitem_vecs[:, i_s:]])\n",
    "\n",
    "# unscale y prediction \n",
    "y_pu = scalerTarget.inverse_transform(y_p)\n",
    "\n",
    "# sort the results, highest prediction first\n",
    "sorted_index = np.argsort(-y_pu,axis=0).reshape(-1).tolist()  #negate to get largest rating first\n",
    "sorted_ypu   = y_pu[sorted_index]\n",
    "sorted_items = item_vecs[sorted_index]  #using unscaled vectors for display\n",
    "\n",
    "print_pred_movies(sorted_ypu, sorted_items, movie_dict, maxcount = 10)"
   ]
  },
  {
   "cell_type": "code",
   "execution_count": 18,
   "id": "45633060-e8bb-4e51-9863-9c4103e5883d",
   "metadata": {},
   "outputs": [
    {
     "name": "stdout",
     "output_type": "stream",
     "text": [
      "\u001b[1m302/302\u001b[0m \u001b[32m━━━━━━━━━━━━━━━━━━━━\u001b[0m\u001b[37m\u001b[0m \u001b[1m2s\u001b[0m 5ms/step\n"
     ]
    },
    {
     "data": {
      "text/html": [
       "<table>\n",
       "<thead>\n",
       "<tr><th style=\"text-align: right;\">  y_p</th><th style=\"text-align: right;\">  y</th><th style=\"text-align: right;\">  user</th><th>user genre ave           </th><th style=\"text-align: right;\">  movie rating ave</th><th style=\"text-align: right;\">  movie id</th><th>title                                               </th><th>genres                                         </th></tr>\n",
       "</thead>\n",
       "<tbody>\n",
       "<tr><td style=\"text-align: right;\">  4.4</td><td style=\"text-align: right;\">3.0</td><td style=\"text-align: right;\">     2</td><td>[3.8,3.9]                </td><td style=\"text-align: right;\">               4.4</td><td style=\"text-align: right;\">       318</td><td>Shawshank Redemption, The (1994)                    </td><td>Crime|Drama                                    </td></tr>\n",
       "<tr><td style=\"text-align: right;\">  4.3</td><td style=\"text-align: right;\">4.5</td><td style=\"text-align: right;\">     2</td><td>[4.0,3.8,3.9]            </td><td style=\"text-align: right;\">               4.2</td><td style=\"text-align: right;\">     58559</td><td>Dark Knight, The (2008)                             </td><td>Action|Crime|Drama|IMAX                        </td></tr>\n",
       "<tr><td style=\"text-align: right;\">  4.3</td><td style=\"text-align: right;\">4.5</td><td style=\"text-align: right;\">     2</td><td>[4.5,3.9]                </td><td style=\"text-align: right;\">               4.1</td><td style=\"text-align: right;\">      1704</td><td>Good Will Hunting (1997)                            </td><td>Drama|Romance                                  </td></tr>\n",
       "<tr><td style=\"text-align: right;\">  4.3</td><td style=\"text-align: right;\">5.0</td><td style=\"text-align: right;\">     2</td><td>[4.3]                    </td><td style=\"text-align: right;\">               5.0</td><td style=\"text-align: right;\">    131724</td><td>The Jinx: The Life and Deaths of Robert Durst (2015)</td><td>Documentary                                    </td></tr>\n",
       "<tr><td style=\"text-align: right;\">  4.3</td><td style=\"text-align: right;\">3.0</td><td style=\"text-align: right;\">     2</td><td>[3.9]                    </td><td style=\"text-align: right;\">               4.0</td><td style=\"text-align: right;\">    109487</td><td>Interstellar (2014)                                 </td><td>Sci-Fi|IMAX                                    </td></tr>\n",
       "<tr><td style=\"text-align: right;\">  4.3</td><td style=\"text-align: right;\">4.0</td><td style=\"text-align: right;\">     2</td><td>[3.8,3.7,3.9]            </td><td style=\"text-align: right;\">               4.3</td><td style=\"text-align: right;\">     48516</td><td>Departed, The (2006)                                </td><td>Crime|Drama|Thriller                           </td></tr>\n",
       "<tr><td style=\"text-align: right;\">  4.3</td><td style=\"text-align: right;\">4.5</td><td style=\"text-align: right;\">     2</td><td>[4.0,3.9,4.5]            </td><td style=\"text-align: right;\">               4.1</td><td style=\"text-align: right;\">     68157</td><td>Inglourious Basterds (2009)                         </td><td>Action|Drama|War                               </td></tr>\n",
       "<tr><td style=\"text-align: right;\">  4.2</td><td style=\"text-align: right;\">5.0</td><td style=\"text-align: right;\">     2</td><td>[4.3]                    </td><td style=\"text-align: right;\">               4.3</td><td style=\"text-align: right;\">     80906</td><td>Inside Job (2010)                                   </td><td>Documentary                                    </td></tr>\n",
       "<tr><td style=\"text-align: right;\">  4.1</td><td style=\"text-align: right;\">4.0</td><td style=\"text-align: right;\">     2</td><td>[3.9]                    </td><td style=\"text-align: right;\">               4.0</td><td style=\"text-align: right;\">    112552</td><td>Whiplash (2014)                                     </td><td>Drama                                          </td></tr>\n",
       "<tr><td style=\"text-align: right;\">  4.1</td><td style=\"text-align: right;\">3.5</td><td style=\"text-align: right;\">     2</td><td>[4.2,4.0,3.8]            </td><td style=\"text-align: right;\">               4.0</td><td style=\"text-align: right;\">     91529</td><td>Dark Knight Rises, The (2012)                       </td><td>Action|Adventure|Crime|IMAX                    </td></tr>\n",
       "<tr><td style=\"text-align: right;\">  4.1</td><td style=\"text-align: right;\">5.0</td><td style=\"text-align: right;\">     2</td><td>[4.2,4.0,3.7,3.9]        </td><td style=\"text-align: right;\">               3.8</td><td style=\"text-align: right;\">    122882</td><td>Mad Max: Fury Road (2015)                           </td><td>Action|Adventure|Sci-Fi|Thriller               </td></tr>\n",
       "<tr><td style=\"text-align: right;\">  4.1</td><td style=\"text-align: right;\">4.0</td><td style=\"text-align: right;\">     2</td><td>[4.0]                    </td><td style=\"text-align: right;\">               4.1</td><td style=\"text-align: right;\">     86345</td><td>Louis C.K.: Hilarious (2010)                        </td><td>Comedy                                         </td></tr>\n",
       "<tr><td style=\"text-align: right;\">  4.1</td><td style=\"text-align: right;\">4.0</td><td style=\"text-align: right;\">     2</td><td>[4.0,3.8,3.7,4.0,3.9,3.9]</td><td style=\"text-align: right;\">               4.1</td><td style=\"text-align: right;\">     79132</td><td>Inception (2010)                                    </td><td>Action|Crime|Drama|Mystery|Sci-Fi|Thriller|IMAX</td></tr>\n",
       "<tr><td style=\"text-align: right;\">  4.1</td><td style=\"text-align: right;\">4.0</td><td style=\"text-align: right;\">     2</td><td>[4.2,4.0,3.9]            </td><td style=\"text-align: right;\">               3.9</td><td style=\"text-align: right;\">      3578</td><td>Gladiator (2000)                                    </td><td>Action|Adventure|Drama                         </td></tr>\n",
       "<tr><td style=\"text-align: right;\">  4.0</td><td style=\"text-align: right;\">3.0</td><td style=\"text-align: right;\">     2</td><td>[4.0,4.3]                </td><td style=\"text-align: right;\">               4.0</td><td style=\"text-align: right;\">     77455</td><td>Exit Through the Gift Shop (2010)                   </td><td>Comedy|Documentary                             </td></tr>\n",
       "<tr><td style=\"text-align: right;\">  4.0</td><td style=\"text-align: right;\">3.5</td><td style=\"text-align: right;\">     2</td><td>[3.7,3.9,3.9]            </td><td style=\"text-align: right;\">               3.9</td><td style=\"text-align: right;\">    115713</td><td>Ex Machina (2015)                                   </td><td>Drama|Sci-Fi|Thriller                          </td></tr>\n",
       "<tr><td style=\"text-align: right;\">  3.9</td><td style=\"text-align: right;\">4.5</td><td style=\"text-align: right;\">     2</td><td>[3.8,3.7,3.9]            </td><td style=\"text-align: right;\">               4.0</td><td style=\"text-align: right;\">     80489</td><td>Town, The (2010)                                    </td><td>Crime|Drama|Thriller                           </td></tr>\n",
       "<tr><td style=\"text-align: right;\">  3.9</td><td style=\"text-align: right;\">4.0</td><td style=\"text-align: right;\">     2</td><td>[4.0,3.8,3.7]            </td><td style=\"text-align: right;\">               4.0</td><td style=\"text-align: right;\">      6874</td><td>Kill Bill: Vol. 1 (2003)                            </td><td>Action|Crime|Thriller                          </td></tr>\n",
       "<tr><td style=\"text-align: right;\">  3.9</td><td style=\"text-align: right;\">5.0</td><td style=\"text-align: right;\">     2</td><td>[3.9]                    </td><td style=\"text-align: right;\">               3.7</td><td style=\"text-align: right;\">     89774</td><td>Warrior (2011)                                      </td><td>Drama                                          </td></tr>\n",
       "<tr><td style=\"text-align: right;\">  3.9</td><td style=\"text-align: right;\">5.0</td><td style=\"text-align: right;\">     2</td><td>[4.0,3.8,3.9]            </td><td style=\"text-align: right;\">               3.9</td><td style=\"text-align: right;\">    106782</td><td>Wolf of Wall Street, The (2013)                     </td><td>Comedy|Crime|Drama                             </td></tr>\n",
       "<tr><td style=\"text-align: right;\">  3.8</td><td style=\"text-align: right;\">3.5</td><td style=\"text-align: right;\">     2</td><td>[4.0,3.9]                </td><td style=\"text-align: right;\">               3.9</td><td style=\"text-align: right;\">     99114</td><td>Django Unchained (2012)                             </td><td>Action|Drama|Western                           </td></tr>\n",
       "<tr><td style=\"text-align: right;\">  3.8</td><td style=\"text-align: right;\">4.0</td><td style=\"text-align: right;\">     2</td><td>[3.7,4.0,3.9]            </td><td style=\"text-align: right;\">               4.0</td><td style=\"text-align: right;\">     74458</td><td>Shutter Island (2010)                               </td><td>Drama|Mystery|Thriller                         </td></tr>\n",
       "<tr><td style=\"text-align: right;\">  3.8</td><td style=\"text-align: right;\">4.0</td><td style=\"text-align: right;\">     2</td><td>[4.0]                    </td><td style=\"text-align: right;\">               3.8</td><td style=\"text-align: right;\">       333</td><td>Tommy Boy (1995)                                    </td><td>Comedy                                         </td></tr>\n",
       "<tr><td style=\"text-align: right;\">  3.7</td><td style=\"text-align: right;\">5.0</td><td style=\"text-align: right;\">     2</td><td>[4.0]                    </td><td style=\"text-align: right;\">               3.6</td><td style=\"text-align: right;\">     60756</td><td>Step Brothers (2008)                                </td><td>Comedy                                         </td></tr>\n",
       "<tr><td style=\"text-align: right;\">  3.5</td><td style=\"text-align: right;\">3.5</td><td style=\"text-align: right;\">     2</td><td>[4.0,3.8,3.7,3.9]        </td><td style=\"text-align: right;\">               3.8</td><td style=\"text-align: right;\">      8798</td><td>Collateral (2004)                                   </td><td>Action|Crime|Drama|Thriller                    </td></tr>\n",
       "<tr><td style=\"text-align: right;\">  3.4</td><td style=\"text-align: right;\">3.0</td><td style=\"text-align: right;\">     2</td><td>[4.0,4.0,3.0]            </td><td style=\"text-align: right;\">               3.9</td><td style=\"text-align: right;\">     71535</td><td>Zombieland (2009)                                   </td><td>Action|Comedy|Horror                           </td></tr>\n",
       "<tr><td style=\"text-align: right;\">  3.4</td><td style=\"text-align: right;\">4.0</td><td style=\"text-align: right;\">     2</td><td>[4.0,4.0]                </td><td style=\"text-align: right;\">               3.2</td><td style=\"text-align: right;\">     46970</td><td>Talladega Nights: The Ballad of Ricky Bobby (2006)  </td><td>Action|Comedy                                  </td></tr>\n",
       "<tr><td style=\"text-align: right;\">  3.4</td><td style=\"text-align: right;\">2.5</td><td style=\"text-align: right;\">     2</td><td>[3.7,3.9]                </td><td style=\"text-align: right;\">               3.5</td><td style=\"text-align: right;\">     91658</td><td>Girl with the Dragon Tattoo, The (2011)             </td><td>Drama|Thriller                                 </td></tr>\n",
       "<tr><td style=\"text-align: right;\">  2.7</td><td style=\"text-align: right;\">2.0</td><td style=\"text-align: right;\">     2</td><td>[3.8,3.7,3.9]            </td><td style=\"text-align: right;\">               2.8</td><td style=\"text-align: right;\">    114060</td><td>The Drop (2014)                                     </td><td>Crime|Drama|Thriller                           </td></tr>\n",
       "</tbody>\n",
       "</table>"
      ],
      "text/plain": [
       "'<table>\\n<thead>\\n<tr><th style=\"text-align: right;\">  y_p</th><th style=\"text-align: right;\">  y</th><th style=\"text-align: right;\">  user</th><th>user genre ave           </th><th style=\"text-align: right;\">  movie rating ave</th><th style=\"text-align: right;\">  movie id</th><th>title                                               </th><th>genres                                         </th></tr>\\n</thead>\\n<tbody>\\n<tr><td style=\"text-align: right;\">  4.4</td><td style=\"text-align: right;\">3.0</td><td style=\"text-align: right;\">     2</td><td>[3.8,3.9]                </td><td style=\"text-align: right;\">               4.4</td><td style=\"text-align: right;\">       318</td><td>Shawshank Redemption, The (1994)                    </td><td>Crime|Drama                                    </td></tr>\\n<tr><td style=\"text-align: right;\">  4.3</td><td style=\"text-align: right;\">4.5</td><td style=\"text-align: right;\">     2</td><td>[4.0,3.8,3.9]            </td><td style=\"text-align: right;\">               4.2</td><td style=\"text-align: right;\">     58559</td><td>Dark Knight, The (2008)                             </td><td>Action|Crime|Drama|IMAX                        </td></tr>\\n<tr><td style=\"text-align: right;\">  4.3</td><td style=\"text-align: right;\">4.5</td><td style=\"text-align: right;\">     2</td><td>[4.5,3.9]                </td><td style=\"text-align: right;\">               4.1</td><td style=\"text-align: right;\">      1704</td><td>Good Will Hunting (1997)                            </td><td>Drama|Romance                                  </td></tr>\\n<tr><td style=\"text-align: right;\">  4.3</td><td style=\"text-align: right;\">5.0</td><td style=\"text-align: right;\">     2</td><td>[4.3]                    </td><td style=\"text-align: right;\">               5.0</td><td style=\"text-align: right;\">    131724</td><td>The Jinx: The Life and Deaths of Robert Durst (2015)</td><td>Documentary                                    </td></tr>\\n<tr><td style=\"text-align: right;\">  4.3</td><td style=\"text-align: right;\">3.0</td><td style=\"text-align: right;\">     2</td><td>[3.9]                    </td><td style=\"text-align: right;\">               4.0</td><td style=\"text-align: right;\">    109487</td><td>Interstellar (2014)                                 </td><td>Sci-Fi|IMAX                                    </td></tr>\\n<tr><td style=\"text-align: right;\">  4.3</td><td style=\"text-align: right;\">4.0</td><td style=\"text-align: right;\">     2</td><td>[3.8,3.7,3.9]            </td><td style=\"text-align: right;\">               4.3</td><td style=\"text-align: right;\">     48516</td><td>Departed, The (2006)                                </td><td>Crime|Drama|Thriller                           </td></tr>\\n<tr><td style=\"text-align: right;\">  4.3</td><td style=\"text-align: right;\">4.5</td><td style=\"text-align: right;\">     2</td><td>[4.0,3.9,4.5]            </td><td style=\"text-align: right;\">               4.1</td><td style=\"text-align: right;\">     68157</td><td>Inglourious Basterds (2009)                         </td><td>Action|Drama|War                               </td></tr>\\n<tr><td style=\"text-align: right;\">  4.2</td><td style=\"text-align: right;\">5.0</td><td style=\"text-align: right;\">     2</td><td>[4.3]                    </td><td style=\"text-align: right;\">               4.3</td><td style=\"text-align: right;\">     80906</td><td>Inside Job (2010)                                   </td><td>Documentary                                    </td></tr>\\n<tr><td style=\"text-align: right;\">  4.1</td><td style=\"text-align: right;\">4.0</td><td style=\"text-align: right;\">     2</td><td>[3.9]                    </td><td style=\"text-align: right;\">               4.0</td><td style=\"text-align: right;\">    112552</td><td>Whiplash (2014)                                     </td><td>Drama                                          </td></tr>\\n<tr><td style=\"text-align: right;\">  4.1</td><td style=\"text-align: right;\">3.5</td><td style=\"text-align: right;\">     2</td><td>[4.2,4.0,3.8]            </td><td style=\"text-align: right;\">               4.0</td><td style=\"text-align: right;\">     91529</td><td>Dark Knight Rises, The (2012)                       </td><td>Action|Adventure|Crime|IMAX                    </td></tr>\\n<tr><td style=\"text-align: right;\">  4.1</td><td style=\"text-align: right;\">5.0</td><td style=\"text-align: right;\">     2</td><td>[4.2,4.0,3.7,3.9]        </td><td style=\"text-align: right;\">               3.8</td><td style=\"text-align: right;\">    122882</td><td>Mad Max: Fury Road (2015)                           </td><td>Action|Adventure|Sci-Fi|Thriller               </td></tr>\\n<tr><td style=\"text-align: right;\">  4.1</td><td style=\"text-align: right;\">4.0</td><td style=\"text-align: right;\">     2</td><td>[4.0]                    </td><td style=\"text-align: right;\">               4.1</td><td style=\"text-align: right;\">     86345</td><td>Louis C.K.: Hilarious (2010)                        </td><td>Comedy                                         </td></tr>\\n<tr><td style=\"text-align: right;\">  4.1</td><td style=\"text-align: right;\">4.0</td><td style=\"text-align: right;\">     2</td><td>[4.0,3.8,3.7,4.0,3.9,3.9]</td><td style=\"text-align: right;\">               4.1</td><td style=\"text-align: right;\">     79132</td><td>Inception (2010)                                    </td><td>Action|Crime|Drama|Mystery|Sci-Fi|Thriller|IMAX</td></tr>\\n<tr><td style=\"text-align: right;\">  4.1</td><td style=\"text-align: right;\">4.0</td><td style=\"text-align: right;\">     2</td><td>[4.2,4.0,3.9]            </td><td style=\"text-align: right;\">               3.9</td><td style=\"text-align: right;\">      3578</td><td>Gladiator (2000)                                    </td><td>Action|Adventure|Drama                         </td></tr>\\n<tr><td style=\"text-align: right;\">  4.0</td><td style=\"text-align: right;\">3.0</td><td style=\"text-align: right;\">     2</td><td>[4.0,4.3]                </td><td style=\"text-align: right;\">               4.0</td><td style=\"text-align: right;\">     77455</td><td>Exit Through the Gift Shop (2010)                   </td><td>Comedy|Documentary                             </td></tr>\\n<tr><td style=\"text-align: right;\">  4.0</td><td style=\"text-align: right;\">3.5</td><td style=\"text-align: right;\">     2</td><td>[3.7,3.9,3.9]            </td><td style=\"text-align: right;\">               3.9</td><td style=\"text-align: right;\">    115713</td><td>Ex Machina (2015)                                   </td><td>Drama|Sci-Fi|Thriller                          </td></tr>\\n<tr><td style=\"text-align: right;\">  3.9</td><td style=\"text-align: right;\">4.5</td><td style=\"text-align: right;\">     2</td><td>[3.8,3.7,3.9]            </td><td style=\"text-align: right;\">               4.0</td><td style=\"text-align: right;\">     80489</td><td>Town, The (2010)                                    </td><td>Crime|Drama|Thriller                           </td></tr>\\n<tr><td style=\"text-align: right;\">  3.9</td><td style=\"text-align: right;\">4.0</td><td style=\"text-align: right;\">     2</td><td>[4.0,3.8,3.7]            </td><td style=\"text-align: right;\">               4.0</td><td style=\"text-align: right;\">      6874</td><td>Kill Bill: Vol. 1 (2003)                            </td><td>Action|Crime|Thriller                          </td></tr>\\n<tr><td style=\"text-align: right;\">  3.9</td><td style=\"text-align: right;\">5.0</td><td style=\"text-align: right;\">     2</td><td>[3.9]                    </td><td style=\"text-align: right;\">               3.7</td><td style=\"text-align: right;\">     89774</td><td>Warrior (2011)                                      </td><td>Drama                                          </td></tr>\\n<tr><td style=\"text-align: right;\">  3.9</td><td style=\"text-align: right;\">5.0</td><td style=\"text-align: right;\">     2</td><td>[4.0,3.8,3.9]            </td><td style=\"text-align: right;\">               3.9</td><td style=\"text-align: right;\">    106782</td><td>Wolf of Wall Street, The (2013)                     </td><td>Comedy|Crime|Drama                             </td></tr>\\n<tr><td style=\"text-align: right;\">  3.8</td><td style=\"text-align: right;\">3.5</td><td style=\"text-align: right;\">     2</td><td>[4.0,3.9]                </td><td style=\"text-align: right;\">               3.9</td><td style=\"text-align: right;\">     99114</td><td>Django Unchained (2012)                             </td><td>Action|Drama|Western                           </td></tr>\\n<tr><td style=\"text-align: right;\">  3.8</td><td style=\"text-align: right;\">4.0</td><td style=\"text-align: right;\">     2</td><td>[3.7,4.0,3.9]            </td><td style=\"text-align: right;\">               4.0</td><td style=\"text-align: right;\">     74458</td><td>Shutter Island (2010)                               </td><td>Drama|Mystery|Thriller                         </td></tr>\\n<tr><td style=\"text-align: right;\">  3.8</td><td style=\"text-align: right;\">4.0</td><td style=\"text-align: right;\">     2</td><td>[4.0]                    </td><td style=\"text-align: right;\">               3.8</td><td style=\"text-align: right;\">       333</td><td>Tommy Boy (1995)                                    </td><td>Comedy                                         </td></tr>\\n<tr><td style=\"text-align: right;\">  3.7</td><td style=\"text-align: right;\">5.0</td><td style=\"text-align: right;\">     2</td><td>[4.0]                    </td><td style=\"text-align: right;\">               3.6</td><td style=\"text-align: right;\">     60756</td><td>Step Brothers (2008)                                </td><td>Comedy                                         </td></tr>\\n<tr><td style=\"text-align: right;\">  3.5</td><td style=\"text-align: right;\">3.5</td><td style=\"text-align: right;\">     2</td><td>[4.0,3.8,3.7,3.9]        </td><td style=\"text-align: right;\">               3.8</td><td style=\"text-align: right;\">      8798</td><td>Collateral (2004)                                   </td><td>Action|Crime|Drama|Thriller                    </td></tr>\\n<tr><td style=\"text-align: right;\">  3.4</td><td style=\"text-align: right;\">3.0</td><td style=\"text-align: right;\">     2</td><td>[4.0,4.0,3.0]            </td><td style=\"text-align: right;\">               3.9</td><td style=\"text-align: right;\">     71535</td><td>Zombieland (2009)                                   </td><td>Action|Comedy|Horror                           </td></tr>\\n<tr><td style=\"text-align: right;\">  3.4</td><td style=\"text-align: right;\">4.0</td><td style=\"text-align: right;\">     2</td><td>[4.0,4.0]                </td><td style=\"text-align: right;\">               3.2</td><td style=\"text-align: right;\">     46970</td><td>Talladega Nights: The Ballad of Ricky Bobby (2006)  </td><td>Action|Comedy                                  </td></tr>\\n<tr><td style=\"text-align: right;\">  3.4</td><td style=\"text-align: right;\">2.5</td><td style=\"text-align: right;\">     2</td><td>[3.7,3.9]                </td><td style=\"text-align: right;\">               3.5</td><td style=\"text-align: right;\">     91658</td><td>Girl with the Dragon Tattoo, The (2011)             </td><td>Drama|Thriller                                 </td></tr>\\n<tr><td style=\"text-align: right;\">  2.7</td><td style=\"text-align: right;\">2.0</td><td style=\"text-align: right;\">     2</td><td>[3.8,3.7,3.9]            </td><td style=\"text-align: right;\">               2.8</td><td style=\"text-align: right;\">    114060</td><td>The Drop (2014)                                     </td><td>Crime|Drama|Thriller                           </td></tr>\\n</tbody>\\n</table>'"
      ]
     },
     "execution_count": 18,
     "metadata": {},
     "output_type": "execute_result"
    }
   ],
   "source": [
    "# for existing user\n",
    "\n",
    "uid = 2 \n",
    "# form a set of user vectors. This is the same vector, transformed and repeated.\n",
    "user_vecs, y_vecs = get_user_vecs(uid, user_train_unscaled, item_vecs, user_to_genre)\n",
    "\n",
    "# scale our user and item vectors\n",
    "suser_vecs = scalerUser.transform(user_vecs)\n",
    "sitem_vecs = scalerItem.transform(item_vecs)\n",
    "\n",
    "# make a prediction\n",
    "y_p = model.predict([suser_vecs[:, u_s:], sitem_vecs[:, i_s:]])\n",
    "\n",
    "# unscale y prediction \n",
    "y_pu = scalerTarget.inverse_transform(y_p)\n",
    "\n",
    "# sort the results, highest prediction first\n",
    "sorted_index = np.argsort(-y_pu,axis=0).reshape(-1).tolist()  #negate to get largest rating first\n",
    "sorted_ypu   = y_pu[sorted_index]\n",
    "sorted_items = item_vecs[sorted_index]  #using unscaled vectors for display\n",
    "sorted_user  = user_vecs[sorted_index]\n",
    "sorted_y     = y_vecs[sorted_index]\n",
    "\n",
    "#print sorted predictions for movies rated by the user\n",
    "print_existing_user(sorted_ypu, sorted_y.reshape(-1,1), sorted_user, sorted_items, ivs, uvs, movie_dict, maxcount = 50)"
   ]
  },
  {
   "cell_type": "markdown",
   "id": "0167f56e-9c14-416e-8f8c-c1d3b81fc193",
   "metadata": {},
   "source": [
    "The model prediction is generally within 1 of the actual rating though it is not a very accurate predictor of how a user rates specific movies. This is especially true if the user rating is significantly different than the user's genre average. You can vary the user id above to try different users.  User id's were used in the training set are from 1-610."
   ]
  },
  {
   "cell_type": "markdown",
   "id": "2784e69e-73fb-4322-a60b-bf4a71da6d13",
   "metadata": {},
   "source": [
    "\n",
    "### Finding Similar Items\n",
    "The neural network above produces two feature vectors, a user feature vector $v_u$, and a movie feature vector, $v_m$. These are 32 entry vectors whose values are difficult to interpret. However, similar items will have similar vectors. This information can be used to make recommendations. For example, if a user has rated \"Toy Story 3\" highly, one could recommend similar movies by selecting movies with similar movie feature vectors.\n",
    "\n",
    "A similarity measure is the squared distance between the two vectors"
   ]
  },
  {
   "cell_type": "code",
   "execution_count": 21,
   "id": "c0491099-95ec-48b7-a8f0-647a20c6186b",
   "metadata": {},
   "outputs": [],
   "source": [
    "def sq_dist(a,b):\n",
    "   \n",
    "   # Returns the squared distance between two vectors\n",
    "    # a adn b with vectors of n features\n",
    "    \n",
    "  \n",
    "    d = 0.0 # distance\n",
    "    for l in range(a.shape[0]):\n",
    "        d = d + (a[l] - b[l])**2\n",
    "        \n",
    "    return d"
   ]
  },
  {
   "cell_type": "markdown",
   "id": "2868a441-b967-4322-bedf-5f74ba82ea8a",
   "metadata": {},
   "source": [
    "A matrix of distances between movies can be computed once when the model is trained and then reused for new recommendations without retraining. The first step, once a model is trained, is to obtain the movie feature vector, $v_m$, for each of the movies. To do this, we will use the trained `item_NN` and build a small model to allow us to run the movie vectors through it to generate $v_m$."
   ]
  },
  {
   "cell_type": "code",
   "execution_count": 19,
   "id": "7a002b75-e952-4df1-a8cf-6799d47b05ce",
   "metadata": {},
   "outputs": [
    {
     "data": {
      "text/html": [
       "<pre style=\"white-space:pre;overflow-x:auto;line-height:normal;font-family:Menlo,'DejaVu Sans Mono',consolas,'Courier New',monospace\"><span style=\"font-weight: bold\">Model: \"functional_3\"</span>\n",
       "</pre>\n"
      ],
      "text/plain": [
       "\u001b[1mModel: \"functional_3\"\u001b[0m\n"
      ]
     },
     "metadata": {},
     "output_type": "display_data"
    },
    {
     "data": {
      "text/html": [
       "<pre style=\"white-space:pre;overflow-x:auto;line-height:normal;font-family:Menlo,'DejaVu Sans Mono',consolas,'Courier New',monospace\">┏━━━━━━━━━━━━━━━━━━━━━━━━━━━━━━━━━━━━━━┳━━━━━━━━━━━━━━━━━━━━━━━━━━━━━┳━━━━━━━━━━━━━━━━━┓\n",
       "┃<span style=\"font-weight: bold\"> Layer (type)                         </span>┃<span style=\"font-weight: bold\"> Output Shape                </span>┃<span style=\"font-weight: bold\">         Param # </span>┃\n",
       "┡━━━━━━━━━━━━━━━━━━━━━━━━━━━━━━━━━━━━━━╇━━━━━━━━━━━━━━━━━━━━━━━━━━━━━╇━━━━━━━━━━━━━━━━━┩\n",
       "│ input_layer_4 (<span style=\"color: #0087ff; text-decoration-color: #0087ff\">InputLayer</span>)           │ (<span style=\"color: #00d7ff; text-decoration-color: #00d7ff\">None</span>, <span style=\"color: #00af00; text-decoration-color: #00af00\">18</span>)                  │               <span style=\"color: #00af00; text-decoration-color: #00af00\">0</span> │\n",
       "├──────────────────────────────────────┼─────────────────────────────┼─────────────────┤\n",
       "│ sequential_1 (<span style=\"color: #0087ff; text-decoration-color: #0087ff\">Sequential</span>)            │ (<span style=\"color: #00d7ff; text-decoration-color: #00d7ff\">None</span>, <span style=\"color: #00af00; text-decoration-color: #00af00\">32</span>)                  │         <span style=\"color: #00af00; text-decoration-color: #00af00\">149,280</span> │\n",
       "├──────────────────────────────────────┼─────────────────────────────┼─────────────────┤\n",
       "│ l2_normalize_layer_2                 │ (<span style=\"color: #00d7ff; text-decoration-color: #00d7ff\">None</span>, <span style=\"color: #00af00; text-decoration-color: #00af00\">32</span>)                  │               <span style=\"color: #00af00; text-decoration-color: #00af00\">0</span> │\n",
       "│ (<span style=\"color: #0087ff; text-decoration-color: #0087ff\">L2NormalizeLayer</span>)                   │                             │                 │\n",
       "└──────────────────────────────────────┴─────────────────────────────┴─────────────────┘\n",
       "</pre>\n"
      ],
      "text/plain": [
       "┏━━━━━━━━━━━━━━━━━━━━━━━━━━━━━━━━━━━━━━┳━━━━━━━━━━━━━━━━━━━━━━━━━━━━━┳━━━━━━━━━━━━━━━━━┓\n",
       "┃\u001b[1m \u001b[0m\u001b[1mLayer (type)                        \u001b[0m\u001b[1m \u001b[0m┃\u001b[1m \u001b[0m\u001b[1mOutput Shape               \u001b[0m\u001b[1m \u001b[0m┃\u001b[1m \u001b[0m\u001b[1m        Param #\u001b[0m\u001b[1m \u001b[0m┃\n",
       "┡━━━━━━━━━━━━━━━━━━━━━━━━━━━━━━━━━━━━━━╇━━━━━━━━━━━━━━━━━━━━━━━━━━━━━╇━━━━━━━━━━━━━━━━━┩\n",
       "│ input_layer_4 (\u001b[38;5;33mInputLayer\u001b[0m)           │ (\u001b[38;5;45mNone\u001b[0m, \u001b[38;5;34m18\u001b[0m)                  │               \u001b[38;5;34m0\u001b[0m │\n",
       "├──────────────────────────────────────┼─────────────────────────────┼─────────────────┤\n",
       "│ sequential_1 (\u001b[38;5;33mSequential\u001b[0m)            │ (\u001b[38;5;45mNone\u001b[0m, \u001b[38;5;34m32\u001b[0m)                  │         \u001b[38;5;34m149,280\u001b[0m │\n",
       "├──────────────────────────────────────┼─────────────────────────────┼─────────────────┤\n",
       "│ l2_normalize_layer_2                 │ (\u001b[38;5;45mNone\u001b[0m, \u001b[38;5;34m32\u001b[0m)                  │               \u001b[38;5;34m0\u001b[0m │\n",
       "│ (\u001b[38;5;33mL2NormalizeLayer\u001b[0m)                   │                             │                 │\n",
       "└──────────────────────────────────────┴─────────────────────────────┴─────────────────┘\n"
      ]
     },
     "metadata": {},
     "output_type": "display_data"
    },
    {
     "data": {
      "text/html": [
       "<pre style=\"white-space:pre;overflow-x:auto;line-height:normal;font-family:Menlo,'DejaVu Sans Mono',consolas,'Courier New',monospace\"><span style=\"font-weight: bold\"> Total params: </span><span style=\"color: #00af00; text-decoration-color: #00af00\">149,280</span> (583.12 KB)\n",
       "</pre>\n"
      ],
      "text/plain": [
       "\u001b[1m Total params: \u001b[0m\u001b[38;5;34m149,280\u001b[0m (583.12 KB)\n"
      ]
     },
     "metadata": {},
     "output_type": "display_data"
    },
    {
     "data": {
      "text/html": [
       "<pre style=\"white-space:pre;overflow-x:auto;line-height:normal;font-family:Menlo,'DejaVu Sans Mono',consolas,'Courier New',monospace\"><span style=\"font-weight: bold\"> Trainable params: </span><span style=\"color: #00af00; text-decoration-color: #00af00\">149,280</span> (583.12 KB)\n",
       "</pre>\n"
      ],
      "text/plain": [
       "\u001b[1m Trainable params: \u001b[0m\u001b[38;5;34m149,280\u001b[0m (583.12 KB)\n"
      ]
     },
     "metadata": {},
     "output_type": "display_data"
    },
    {
     "data": {
      "text/html": [
       "<pre style=\"white-space:pre;overflow-x:auto;line-height:normal;font-family:Menlo,'DejaVu Sans Mono',consolas,'Courier New',monospace\"><span style=\"font-weight: bold\"> Non-trainable params: </span><span style=\"color: #00af00; text-decoration-color: #00af00\">0</span> (0.00 B)\n",
       "</pre>\n"
      ],
      "text/plain": [
       "\u001b[1m Non-trainable params: \u001b[0m\u001b[38;5;34m0\u001b[0m (0.00 B)\n"
      ]
     },
     "metadata": {},
     "output_type": "display_data"
    }
   ],
   "source": [
    "input_item_m = tf.keras.layers.Input(shape=((num_item_features,)))    # input layer\n",
    "vm_m = item_NN(input_item_m)                                       # use the trained item_NN\n",
    "vm_m = L2NormalizeLayer(axis=1)(vm_m)                      # incorporate normalization as was done in the original model\n",
    "model_m = tf.keras.Model(input_item_m, vm_m)                                \n",
    "model_m.summary()"
   ]
  },
  {
   "cell_type": "markdown",
   "id": "7e7c4920-bf4b-42c7-a6ba-5ab97b0f623c",
   "metadata": {},
   "source": [
    "Once you have a movie model, you can create a set of movie feature vectors by using the model to predict using a set of item/movie vectors as input. `item_vecs` is a set of all of the movie vectors. It must be scaled to use with the trained model. The result of the prediction is a 32 entry feature vector for each movie."
   ]
  },
  {
   "cell_type": "code",
   "execution_count": 20,
   "id": "eb498994-78df-41e4-9bf5-df5527f51c1e",
   "metadata": {},
   "outputs": [
    {
     "name": "stdout",
     "output_type": "stream",
     "text": [
      "\u001b[1m302/302\u001b[0m \u001b[32m━━━━━━━━━━━━━━━━━━━━\u001b[0m\u001b[37m\u001b[0m \u001b[1m1s\u001b[0m 3ms/step\n",
      "size of all predicted movie feature vectors: (9664, 32)\n"
     ]
    }
   ],
   "source": [
    "scaled_item_vecs = scalerItem.transform(item_vecs)\n",
    "vms = model_m.predict(scaled_item_vecs[:,i_s:])\n",
    "print(f\"size of all predicted movie feature vectors: {vms.shape}\")"
   ]
  },
  {
   "cell_type": "markdown",
   "id": "c7e92ff0-731a-41bf-a7f9-01dbb5ecc5b2",
   "metadata": {},
   "source": [
    "Lets compute a matrix of the squared distance between each movie feature vector and all other movie feature vectors:\n",
    "We can then find the closest movie by finding the minimum along each row. We will make use of [numpy masked arrays](https://numpy.org/doc/1.21/user/tutorial-ma.html) to avoid selecting the same movie. The masked values along the diagonal won't be included in the computation."
   ]
  },
  {
   "cell_type": "code",
   "execution_count": 22,
   "id": "232f2316-2487-4f68-ad77-e2776702c57f",
   "metadata": {},
   "outputs": [
    {
     "data": {
      "text/html": [
       "<table>\n",
       "<thead>\n",
       "<tr><th>movie1                                   </th><th>genres                                            </th><th>movie2                                               </th><th>genres                                            </th></tr>\n",
       "</thead>\n",
       "<tbody>\n",
       "<tr><td>Toy Story (1995)                         </td><td>Adventure|Animation|Children|Comedy|Fantasy       </td><td>Toy Story 2 (1999)                                   </td><td>Adventure|Animation|Children|Comedy|Fantasy       </td></tr>\n",
       "<tr><td>Grumpier Old Men (1995)                  </td><td>Comedy|Romance                                    </td><td>Clueless (1995)                                      </td><td>Comedy|Romance                                    </td></tr>\n",
       "<tr><td>Heat (1995)                              </td><td>Action|Crime|Thriller                             </td><td>Thursday (1998)                                      </td><td>Action|Crime|Thriller                             </td></tr>\n",
       "<tr><td>Seven (a.k.a. Se7en) (1995)              </td><td>Mystery|Thriller                                  </td><td>True Crime (1996)                                    </td><td>Mystery|Thriller                                  </td></tr>\n",
       "<tr><td>Usual Suspects, The (1995)               </td><td>Crime|Mystery|Thriller                            </td><td>Reservoir Dogs (1992)                                </td><td>Crime|Mystery|Thriller                            </td></tr>\n",
       "<tr><td>From Dusk Till Dawn (1996)               </td><td>Action|Comedy|Horror|Thriller                     </td><td>Ichi the Killer (Koroshiya 1) (2001)                 </td><td>Action|Comedy|Horror|Thriller                     </td></tr>\n",
       "<tr><td>Bottle Rocket (1996)                     </td><td>Adventure|Comedy|Crime|Romance                    </td><td>Annie Hall (1977)                                    </td><td>Adventure|Comedy|Crime|Romance                    </td></tr>\n",
       "<tr><td>Braveheart (1995)                        </td><td>Action|Drama|War                                  </td><td>Saving Private Ryan (1998)                           </td><td>Action|Drama|War                                  </td></tr>\n",
       "<tr><td>Rob Roy (1995)                           </td><td>Action|Drama|Romance|War                          </td><td>Kingdom of Heaven (2005)                             </td><td>Action|Drama|Romance|War                          </td></tr>\n",
       "<tr><td>Canadian Bacon (1995)                    </td><td>Comedy|War                                        </td><td>Junior (1994)                                        </td><td>Comedy|War                                        </td></tr>\n",
       "<tr><td>Desperado (1995)                         </td><td>Action|Romance|Western                            </td><td>Saint, The (1997)                                    </td><td>Action|Romance|Western                            </td></tr>\n",
       "<tr><td>Billy Madison (1995)                     </td><td>Comedy                                            </td><td>Brothers McMullen, The (1995)                        </td><td>Comedy                                            </td></tr>\n",
       "<tr><td>Clerks (1994)                            </td><td>Comedy                                            </td><td>Waiting for Guffman (1996)                           </td><td>Comedy                                            </td></tr>\n",
       "<tr><td>Dumb &amp; Dumber (Dumb and Dumber) (1994)   </td><td>Adventure|Comedy                                  </td><td>EDtv (1999)                                          </td><td>Adventure|Comedy                                  </td></tr>\n",
       "<tr><td>Ed Wood (1994)                           </td><td>Comedy|Drama                                      </td><td>Roommates (1995)                                     </td><td>Comedy|Drama                                      </td></tr>\n",
       "<tr><td>Star Wars: Episode IV - A New Hope (1977)</td><td>Action|Adventure|Sci-Fi                           </td><td>Star Wars: Episode V - The Empire Strikes Back (1980)</td><td>Action|Adventure|Sci-Fi                           </td></tr>\n",
       "<tr><td>Pulp Fiction (1994)                      </td><td>Comedy|Crime|Drama|Thriller                       </td><td>Fargo (1996)                                         </td><td>Comedy|Crime|Drama|Thriller                       </td></tr>\n",
       "<tr><td>Stargate (1994)                          </td><td>Action|Adventure|Sci-Fi                           </td><td>Rocketeer, The (1991)                                </td><td>Action|Adventure|Sci-Fi                           </td></tr>\n",
       "<tr><td>Tommy Boy (1995)                         </td><td>Comedy                                            </td><td>Friday (1995)                                        </td><td>Comedy                                            </td></tr>\n",
       "<tr><td>Clear and Present Danger (1994)          </td><td>Action|Crime|Drama|Thriller                       </td><td>Patriot Games (1992)                                 </td><td>Action|Crime|Drama|Thriller                       </td></tr>\n",
       "<tr><td>Forrest Gump (1994)                      </td><td>Comedy|Drama|Romance|War                          </td><td>Life Is Beautiful (La Vita è bella) (1997)           </td><td>Comedy|Drama|Romance|War                          </td></tr>\n",
       "<tr><td>Jungle Book, The (1994)                  </td><td>Adventure|Children|Romance                        </td><td>Easter Parade (1948)                                 </td><td>Adventure|Children|Romance                        </td></tr>\n",
       "<tr><td>Mask, The (1994)                         </td><td>Action|Comedy|Crime|Fantasy                       </td><td>Puss in Boots (2011)                                 </td><td>Action|Comedy|Crime|Fantasy                       </td></tr>\n",
       "<tr><td>Blown Away (1994)                        </td><td>Action|Thriller                                   </td><td>Drop Zone (1994)                                     </td><td>Action|Thriller                                   </td></tr>\n",
       "<tr><td>Dazed and Confused (1993)                </td><td>Comedy                                            </td><td>Waiting for Guffman (1996)                           </td><td>Comedy                                            </td></tr>\n",
       "<tr><td>Fugitive, The (1993)                     </td><td>Thriller                                          </td><td>Strangeland (1998)                                   </td><td>Thriller                                          </td></tr>\n",
       "<tr><td>Jurassic Park (1993)                     </td><td>Action|Adventure|Sci-Fi|Thriller                  </td><td>Star Trek: First Contact (1996)                      </td><td>Action|Adventure|Sci-Fi|Thriller                  </td></tr>\n",
       "<tr><td>Mrs. Doubtfire (1993)                    </td><td>Comedy|Drama                                      </td><td>Empire Records (1995)                                </td><td>Comedy|Drama                                      </td></tr>\n",
       "<tr><td>Schindler&#x27;s List (1993)                  </td><td>Drama|War                                         </td><td>Stalingrad (1993)                                    </td><td>Drama|War                                         </td></tr>\n",
       "<tr><td>So I Married an Axe Murderer (1993)      </td><td>Comedy|Romance|Thriller                           </td><td>Not on the Lips (Pas sur la bouche) (2003)           </td><td>Comedy|Romance|Thriller                           </td></tr>\n",
       "<tr><td>Three Musketeers, The (1993)             </td><td>Action|Adventure|Comedy|Romance                   </td><td>Romancing the Stone (1984)                           </td><td>Action|Adventure|Comedy|Romance                   </td></tr>\n",
       "<tr><td>Tombstone (1993)                         </td><td>Action|Drama|Western                              </td><td>Following (1998)                                     </td><td>Action|Drama|Western                              </td></tr>\n",
       "<tr><td>Dances with Wolves (1990)                </td><td>Adventure|Drama|Western                           </td><td>Lonesome Dove (1989)                                 </td><td>Adventure|Drama|Western                           </td></tr>\n",
       "<tr><td>Batman (1989)                            </td><td>Action|Crime|Thriller                             </td><td>Mariachi, El (1992)                                  </td><td>Action|Crime|Thriller                             </td></tr>\n",
       "<tr><td>Silence of the Lambs, The (1991)         </td><td>Crime|Horror|Thriller                             </td><td>Henry: Portrait of a Serial Killer (1986)            </td><td>Crime|Horror|Thriller                             </td></tr>\n",
       "<tr><td>Pinocchio (1940)                         </td><td>Animation|Children|Fantasy|Musical                </td><td>Peter Pan (1953)                                     </td><td>Animation|Children|Fantasy|Musical                </td></tr>\n",
       "<tr><td>Fargo (1996)                             </td><td>Comedy|Crime|Drama|Thriller                       </td><td>Pulp Fiction (1994)                                  </td><td>Comedy|Crime|Drama|Thriller                       </td></tr>\n",
       "<tr><td>Mission: Impossible (1996)               </td><td>Action|Adventure|Mystery|Thriller                 </td><td>Die Hard 2 (1990)                                    </td><td>Action|Adventure|Mystery|Thriller                 </td></tr>\n",
       "<tr><td>James and the Giant Peach (1996)         </td><td>Adventure|Animation|Children|Fantasy|Musical      </td><td>Snowman, The (1982)                                  </td><td>Adventure|Animation|Children|Fantasy|Musical      </td></tr>\n",
       "<tr><td>Space Jam (1996)                         </td><td>Adventure|Animation|Children|Comedy|Fantasy|Sci-Fi</td><td>Rugrats Movie, The (1998)                            </td><td>Adventure|Animation|Children|Comedy|Fantasy|Sci-Fi</td></tr>\n",
       "<tr><td>Rock, The (1996)                         </td><td>Action|Adventure|Thriller                         </td><td>Thomas Crown Affair, The (1999)                      </td><td>Action|Adventure|Thriller                         </td></tr>\n",
       "<tr><td>Twister (1996)                           </td><td>Action|Adventure|Romance|Thriller                 </td><td>Mr. &amp; Mrs. Smith (2005)                              </td><td>Action|Adventure|Romance|Thriller                 </td></tr>\n",
       "<tr><td>Independence Day (a.k.a. ID4) (1996)     </td><td>Action|Adventure|Sci-Fi|Thriller                  </td><td>Spider-Man (2002)                                    </td><td>Action|Adventure|Sci-Fi|Thriller                  </td></tr>\n",
       "<tr><td>She&#x27;s the One (1996)                     </td><td>Comedy|Romance                                    </td><td>Grumpier Old Men (1995)                              </td><td>Comedy|Romance                                    </td></tr>\n",
       "<tr><td>Wizard of Oz, The (1939)                 </td><td>Adventure|Children|Fantasy|Musical                </td><td>Chitty Chitty Bang Bang (1968)                       </td><td>Adventure|Children|Fantasy|Musical                </td></tr>\n",
       "<tr><td>Citizen Kane (1941)                      </td><td>Drama|Mystery                                     </td><td>Maltese Falcon, The (1941)                           </td><td>Drama|Mystery                                     </td></tr>\n",
       "<tr><td>Adventures of Robin Hood, The (1938)     </td><td>Action|Adventure|Romance                          </td><td>Captain Blood (1935)                                 </td><td>Action|Adventure|Romance                          </td></tr>\n",
       "<tr><td>Ghost and Mrs. Muir, The (1947)          </td><td>Drama|Fantasy|Romance                             </td><td>Giant (1956)                                         </td><td>Drama|Fantasy|Romance                             </td></tr>\n",
       "<tr><td>Mr. Smith Goes to Washington (1939)      </td><td>Drama                                             </td><td>Grapes of Wrath, The (1940)                          </td><td>Drama                                             </td></tr>\n",
       "<tr><td>Escape to Witch Mountain (1975)          </td><td>Adventure|Children|Fantasy                        </td><td>Return to Oz (1985)                                  </td><td>Adventure|Children|Fantasy                        </td></tr>\n",
       "</tbody>\n",
       "</table>"
      ],
      "text/plain": [
       "'<table>\\n<thead>\\n<tr><th>movie1                                   </th><th>genres                                            </th><th>movie2                                               </th><th>genres                                            </th></tr>\\n</thead>\\n<tbody>\\n<tr><td>Toy Story (1995)                         </td><td>Adventure|Animation|Children|Comedy|Fantasy       </td><td>Toy Story 2 (1999)                                   </td><td>Adventure|Animation|Children|Comedy|Fantasy       </td></tr>\\n<tr><td>Grumpier Old Men (1995)                  </td><td>Comedy|Romance                                    </td><td>Clueless (1995)                                      </td><td>Comedy|Romance                                    </td></tr>\\n<tr><td>Heat (1995)                              </td><td>Action|Crime|Thriller                             </td><td>Thursday (1998)                                      </td><td>Action|Crime|Thriller                             </td></tr>\\n<tr><td>Seven (a.k.a. Se7en) (1995)              </td><td>Mystery|Thriller                                  </td><td>True Crime (1996)                                    </td><td>Mystery|Thriller                                  </td></tr>\\n<tr><td>Usual Suspects, The (1995)               </td><td>Crime|Mystery|Thriller                            </td><td>Reservoir Dogs (1992)                                </td><td>Crime|Mystery|Thriller                            </td></tr>\\n<tr><td>From Dusk Till Dawn (1996)               </td><td>Action|Comedy|Horror|Thriller                     </td><td>Ichi the Killer (Koroshiya 1) (2001)                 </td><td>Action|Comedy|Horror|Thriller                     </td></tr>\\n<tr><td>Bottle Rocket (1996)                     </td><td>Adventure|Comedy|Crime|Romance                    </td><td>Annie Hall (1977)                                    </td><td>Adventure|Comedy|Crime|Romance                    </td></tr>\\n<tr><td>Braveheart (1995)                        </td><td>Action|Drama|War                                  </td><td>Saving Private Ryan (1998)                           </td><td>Action|Drama|War                                  </td></tr>\\n<tr><td>Rob Roy (1995)                           </td><td>Action|Drama|Romance|War                          </td><td>Kingdom of Heaven (2005)                             </td><td>Action|Drama|Romance|War                          </td></tr>\\n<tr><td>Canadian Bacon (1995)                    </td><td>Comedy|War                                        </td><td>Junior (1994)                                        </td><td>Comedy|War                                        </td></tr>\\n<tr><td>Desperado (1995)                         </td><td>Action|Romance|Western                            </td><td>Saint, The (1997)                                    </td><td>Action|Romance|Western                            </td></tr>\\n<tr><td>Billy Madison (1995)                     </td><td>Comedy                                            </td><td>Brothers McMullen, The (1995)                        </td><td>Comedy                                            </td></tr>\\n<tr><td>Clerks (1994)                            </td><td>Comedy                                            </td><td>Waiting for Guffman (1996)                           </td><td>Comedy                                            </td></tr>\\n<tr><td>Dumb &amp; Dumber (Dumb and Dumber) (1994)   </td><td>Adventure|Comedy                                  </td><td>EDtv (1999)                                          </td><td>Adventure|Comedy                                  </td></tr>\\n<tr><td>Ed Wood (1994)                           </td><td>Comedy|Drama                                      </td><td>Roommates (1995)                                     </td><td>Comedy|Drama                                      </td></tr>\\n<tr><td>Star Wars: Episode IV - A New Hope (1977)</td><td>Action|Adventure|Sci-Fi                           </td><td>Star Wars: Episode V - The Empire Strikes Back (1980)</td><td>Action|Adventure|Sci-Fi                           </td></tr>\\n<tr><td>Pulp Fiction (1994)                      </td><td>Comedy|Crime|Drama|Thriller                       </td><td>Fargo (1996)                                         </td><td>Comedy|Crime|Drama|Thriller                       </td></tr>\\n<tr><td>Stargate (1994)                          </td><td>Action|Adventure|Sci-Fi                           </td><td>Rocketeer, The (1991)                                </td><td>Action|Adventure|Sci-Fi                           </td></tr>\\n<tr><td>Tommy Boy (1995)                         </td><td>Comedy                                            </td><td>Friday (1995)                                        </td><td>Comedy                                            </td></tr>\\n<tr><td>Clear and Present Danger (1994)          </td><td>Action|Crime|Drama|Thriller                       </td><td>Patriot Games (1992)                                 </td><td>Action|Crime|Drama|Thriller                       </td></tr>\\n<tr><td>Forrest Gump (1994)                      </td><td>Comedy|Drama|Romance|War                          </td><td>Life Is Beautiful (La Vita è bella) (1997)           </td><td>Comedy|Drama|Romance|War                          </td></tr>\\n<tr><td>Jungle Book, The (1994)                  </td><td>Adventure|Children|Romance                        </td><td>Easter Parade (1948)                                 </td><td>Adventure|Children|Romance                        </td></tr>\\n<tr><td>Mask, The (1994)                         </td><td>Action|Comedy|Crime|Fantasy                       </td><td>Puss in Boots (2011)                                 </td><td>Action|Comedy|Crime|Fantasy                       </td></tr>\\n<tr><td>Blown Away (1994)                        </td><td>Action|Thriller                                   </td><td>Drop Zone (1994)                                     </td><td>Action|Thriller                                   </td></tr>\\n<tr><td>Dazed and Confused (1993)                </td><td>Comedy                                            </td><td>Waiting for Guffman (1996)                           </td><td>Comedy                                            </td></tr>\\n<tr><td>Fugitive, The (1993)                     </td><td>Thriller                                          </td><td>Strangeland (1998)                                   </td><td>Thriller                                          </td></tr>\\n<tr><td>Jurassic Park (1993)                     </td><td>Action|Adventure|Sci-Fi|Thriller                  </td><td>Star Trek: First Contact (1996)                      </td><td>Action|Adventure|Sci-Fi|Thriller                  </td></tr>\\n<tr><td>Mrs. Doubtfire (1993)                    </td><td>Comedy|Drama                                      </td><td>Empire Records (1995)                                </td><td>Comedy|Drama                                      </td></tr>\\n<tr><td>Schindler&#x27;s List (1993)                  </td><td>Drama|War                                         </td><td>Stalingrad (1993)                                    </td><td>Drama|War                                         </td></tr>\\n<tr><td>So I Married an Axe Murderer (1993)      </td><td>Comedy|Romance|Thriller                           </td><td>Not on the Lips (Pas sur la bouche) (2003)           </td><td>Comedy|Romance|Thriller                           </td></tr>\\n<tr><td>Three Musketeers, The (1993)             </td><td>Action|Adventure|Comedy|Romance                   </td><td>Romancing the Stone (1984)                           </td><td>Action|Adventure|Comedy|Romance                   </td></tr>\\n<tr><td>Tombstone (1993)                         </td><td>Action|Drama|Western                              </td><td>Following (1998)                                     </td><td>Action|Drama|Western                              </td></tr>\\n<tr><td>Dances with Wolves (1990)                </td><td>Adventure|Drama|Western                           </td><td>Lonesome Dove (1989)                                 </td><td>Adventure|Drama|Western                           </td></tr>\\n<tr><td>Batman (1989)                            </td><td>Action|Crime|Thriller                             </td><td>Mariachi, El (1992)                                  </td><td>Action|Crime|Thriller                             </td></tr>\\n<tr><td>Silence of the Lambs, The (1991)         </td><td>Crime|Horror|Thriller                             </td><td>Henry: Portrait of a Serial Killer (1986)            </td><td>Crime|Horror|Thriller                             </td></tr>\\n<tr><td>Pinocchio (1940)                         </td><td>Animation|Children|Fantasy|Musical                </td><td>Peter Pan (1953)                                     </td><td>Animation|Children|Fantasy|Musical                </td></tr>\\n<tr><td>Fargo (1996)                             </td><td>Comedy|Crime|Drama|Thriller                       </td><td>Pulp Fiction (1994)                                  </td><td>Comedy|Crime|Drama|Thriller                       </td></tr>\\n<tr><td>Mission: Impossible (1996)               </td><td>Action|Adventure|Mystery|Thriller                 </td><td>Die Hard 2 (1990)                                    </td><td>Action|Adventure|Mystery|Thriller                 </td></tr>\\n<tr><td>James and the Giant Peach (1996)         </td><td>Adventure|Animation|Children|Fantasy|Musical      </td><td>Snowman, The (1982)                                  </td><td>Adventure|Animation|Children|Fantasy|Musical      </td></tr>\\n<tr><td>Space Jam (1996)                         </td><td>Adventure|Animation|Children|Comedy|Fantasy|Sci-Fi</td><td>Rugrats Movie, The (1998)                            </td><td>Adventure|Animation|Children|Comedy|Fantasy|Sci-Fi</td></tr>\\n<tr><td>Rock, The (1996)                         </td><td>Action|Adventure|Thriller                         </td><td>Thomas Crown Affair, The (1999)                      </td><td>Action|Adventure|Thriller                         </td></tr>\\n<tr><td>Twister (1996)                           </td><td>Action|Adventure|Romance|Thriller                 </td><td>Mr. &amp; Mrs. Smith (2005)                              </td><td>Action|Adventure|Romance|Thriller                 </td></tr>\\n<tr><td>Independence Day (a.k.a. ID4) (1996)     </td><td>Action|Adventure|Sci-Fi|Thriller                  </td><td>Spider-Man (2002)                                    </td><td>Action|Adventure|Sci-Fi|Thriller                  </td></tr>\\n<tr><td>She&#x27;s the One (1996)                     </td><td>Comedy|Romance                                    </td><td>Grumpier Old Men (1995)                              </td><td>Comedy|Romance                                    </td></tr>\\n<tr><td>Wizard of Oz, The (1939)                 </td><td>Adventure|Children|Fantasy|Musical                </td><td>Chitty Chitty Bang Bang (1968)                       </td><td>Adventure|Children|Fantasy|Musical                </td></tr>\\n<tr><td>Citizen Kane (1941)                      </td><td>Drama|Mystery                                     </td><td>Maltese Falcon, The (1941)                           </td><td>Drama|Mystery                                     </td></tr>\\n<tr><td>Adventures of Robin Hood, The (1938)     </td><td>Action|Adventure|Romance                          </td><td>Captain Blood (1935)                                 </td><td>Action|Adventure|Romance                          </td></tr>\\n<tr><td>Ghost and Mrs. Muir, The (1947)          </td><td>Drama|Fantasy|Romance                             </td><td>Giant (1956)                                         </td><td>Drama|Fantasy|Romance                             </td></tr>\\n<tr><td>Mr. Smith Goes to Washington (1939)      </td><td>Drama                                             </td><td>Grapes of Wrath, The (1940)                          </td><td>Drama                                             </td></tr>\\n<tr><td>Escape to Witch Mountain (1975)          </td><td>Adventure|Children|Fantasy                        </td><td>Return to Oz (1985)                                  </td><td>Adventure|Children|Fantasy                        </td></tr>\\n</tbody>\\n</table>'"
      ]
     },
     "execution_count": 22,
     "metadata": {},
     "output_type": "execute_result"
    }
   ],
   "source": [
    "count = 50  # number of movies to display\n",
    "dim = len(vms)\n",
    "dist = np.zeros((dim,dim))\n",
    "\n",
    "for i in range(dim):\n",
    "    for j in range(dim):\n",
    "        dist[i,j] = sq_dist(vms[i, :], vms[j, :])\n",
    "        \n",
    "m_dist = ma.masked_array(dist, mask=np.identity(dist.shape[0]))  # mask the diagonal\n",
    "\n",
    "disp = [[\"movie1\", \"genres\", \"movie2\", \"genres\"]]\n",
    "for i in range(count):\n",
    "    min_idx = np.argmin(m_dist[i])\n",
    "    movie1_id = int(item_vecs[i,0])\n",
    "    movie2_id = int(item_vecs[min_idx,0])\n",
    "    disp.append( [movie_dict[movie1_id]['title'], movie_dict[movie1_id]['genres'],\n",
    "                  movie_dict[movie2_id]['title'], movie_dict[movie1_id]['genres']]\n",
    "               )\n",
    "table = tabulate.tabulate(disp, tablefmt='html', headers=\"firstrow\")\n",
    "table"
   ]
  },
  {
   "cell_type": "code",
   "execution_count": null,
   "id": "309f9df0-dd53-410c-b543-8d3a06c9c5ca",
   "metadata": {},
   "outputs": [],
   "source": []
  }
 ],
 "metadata": {
  "kernelspec": {
   "display_name": "Python 3 (ipykernel)",
   "language": "python",
   "name": "python3"
  },
  "language_info": {
   "codemirror_mode": {
    "name": "ipython",
    "version": 3
   },
   "file_extension": ".py",
   "mimetype": "text/x-python",
   "name": "python",
   "nbconvert_exporter": "python",
   "pygments_lexer": "ipython3",
   "version": "3.13.5"
  }
 },
 "nbformat": 4,
 "nbformat_minor": 5
}
